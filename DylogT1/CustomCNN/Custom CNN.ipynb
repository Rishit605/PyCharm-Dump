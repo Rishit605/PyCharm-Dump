{
 "cells": [
  {
   "cell_type": "code",
   "execution_count": 45,
   "id": "e9a8be55",
   "metadata": {},
   "outputs": [
    {
     "name": "stdout",
     "output_type": "stream",
     "text": [
      "Collecting graphviz\n",
      "  Downloading graphviz-0.20.1-py3-none-any.whl (47 kB)\n",
      "Installing collected packages: graphviz\n",
      "Successfully installed graphviz-0.20.1\n"
     ]
    }
   ],
   "source": [
    "! pip install graphviz"
   ]
  },
  {
   "cell_type": "code",
   "execution_count": 1,
   "id": "c8b4ff52",
   "metadata": {},
   "outputs": [],
   "source": [
    "! mkdir dataset"
   ]
  },
  {
   "cell_type": "code",
   "execution_count": 2,
   "id": "bcc69885",
   "metadata": {},
   "outputs": [
    {
     "name": "stdout",
     "output_type": "stream",
     "text": [
      "[WinError 3] The system cannot find the path specified: '/content/dataset'\n",
      "C:\\Users\\pc\\PycharmProjects\\DylogT1\\CustomCNN\n"
     ]
    }
   ],
   "source": [
    "cd /dataset"
   ]
  },
  {
   "cell_type": "code",
   "execution_count": 3,
   "id": "e10ec16c",
   "metadata": {
    "scrolled": true
   },
   "outputs": [
    {
     "name": "stdout",
     "output_type": "stream",
     "text": [
      "Downloading plantdisease.zip to C:\\Users\\pc\\PycharmProjects\\DylogT1\\CustomCNN\n",
      "\n"
     ]
    },
    {
     "name": "stderr",
     "output_type": "stream",
     "text": [
      "\n",
      "  0%|          | 0.00/658M [00:00<?, ?B/s]\n",
      "  0%|          | 1.00M/658M [00:00<03:59, 2.87MB/s]\n",
      "  0%|          | 2.00M/658M [00:00<02:52, 3.99MB/s]\n",
      "  0%|          | 3.00M/658M [00:00<02:25, 4.72MB/s]\n",
      "  1%|          | 4.00M/658M [00:00<01:57, 5.85MB/s]\n",
      "  1%|          | 5.00M/658M [00:02<06:02, 1.89MB/s]\n",
      "  1%|          | 6.00M/658M [00:02<04:24, 2.58MB/s]\n",
      "  1%|1         | 7.00M/658M [00:02<03:34, 3.17MB/s]\n",
      "  1%|1         | 8.00M/658M [00:02<02:52, 3.95MB/s]\n",
      "  2%|1         | 10.0M/658M [00:03<02:56, 3.84MB/s]\n",
      "  2%|1         | 11.0M/658M [00:03<02:34, 4.39MB/s]\n",
      "  2%|1         | 12.0M/658M [00:03<02:57, 3.81MB/s]\n",
      "  2%|2         | 14.0M/658M [00:04<03:15, 3.46MB/s]\n",
      "  2%|2         | 16.0M/658M [00:04<02:19, 4.82MB/s]\n",
      "  3%|2         | 17.0M/658M [00:05<04:33, 2.46MB/s]\n",
      "  3%|2         | 19.0M/658M [00:05<03:08, 3.56MB/s]\n",
      "  3%|3         | 20.0M/658M [00:06<03:29, 3.18MB/s]\n",
      "  3%|3         | 21.0M/658M [00:06<04:23, 2.54MB/s]\n",
      "  3%|3         | 23.0M/658M [00:07<02:54, 3.82MB/s]\n",
      "  4%|3         | 25.0M/658M [00:07<02:24, 4.58MB/s]\n",
      "  4%|4         | 27.0M/658M [00:07<02:21, 4.69MB/s]\n",
      "  4%|4         | 29.0M/658M [00:08<02:40, 4.10MB/s]\n",
      "  5%|4         | 31.0M/658M [00:08<02:00, 5.47MB/s]\n",
      "  5%|5         | 33.0M/658M [00:08<01:35, 6.84MB/s]\n",
      "  5%|5         | 35.0M/658M [00:08<01:29, 7.26MB/s]\n",
      "  6%|5         | 37.0M/658M [00:09<01:47, 6.07MB/s]\n",
      "  6%|5         | 39.0M/658M [00:09<01:29, 7.29MB/s]\n",
      "  6%|6         | 41.0M/658M [00:09<01:22, 7.84MB/s]\n",
      "  7%|6         | 43.0M/658M [00:10<01:40, 6.42MB/s]\n",
      "  7%|6         | 45.0M/658M [00:10<01:52, 5.70MB/s]\n",
      "  7%|7         | 48.0M/658M [00:10<01:19, 8.06MB/s]\n",
      "  8%|7         | 50.0M/658M [00:11<01:35, 6.67MB/s]\n",
      "  8%|7         | 52.0M/658M [00:11<02:04, 5.11MB/s]\n",
      "  8%|8         | 54.0M/658M [00:12<01:38, 6.40MB/s]\n",
      "  9%|8         | 57.0M/658M [00:12<01:10, 8.91MB/s]\n",
      "  9%|8         | 59.0M/658M [00:13<02:30, 4.16MB/s]\n",
      "  9%|9         | 61.0M/658M [00:14<03:20, 3.12MB/s]\n",
      " 10%|9         | 63.0M/658M [00:14<02:38, 3.94MB/s]\n",
      " 10%|#         | 66.0M/658M [00:14<01:53, 5.47MB/s]\n",
      " 10%|#         | 68.0M/658M [00:15<02:15, 4.58MB/s]\n",
      " 11%|#         | 71.0M/658M [00:15<01:38, 6.26MB/s]\n",
      " 11%|#1        | 74.0M/658M [00:16<01:22, 7.42MB/s]\n",
      " 12%|#1        | 76.0M/658M [00:16<01:31, 6.65MB/s]\n",
      " 12%|#1        | 78.0M/658M [00:16<01:15, 8.07MB/s]\n",
      " 12%|#2        | 80.0M/658M [00:16<01:03, 9.58MB/s]\n",
      " 12%|#2        | 82.0M/658M [00:17<01:23, 7.25MB/s]\n",
      " 13%|#2        | 84.0M/658M [00:17<01:38, 6.12MB/s]\n",
      " 13%|#3        | 86.0M/658M [00:17<01:25, 7.01MB/s]\n",
      " 14%|#3        | 89.0M/658M [00:18<01:30, 6.60MB/s]\n",
      " 14%|#3        | 92.0M/658M [00:18<01:10, 8.36MB/s]\n",
      " 14%|#4        | 95.0M/658M [00:18<00:54, 10.8MB/s]\n",
      " 15%|#4        | 97.0M/658M [00:18<00:51, 11.5MB/s]\n",
      " 15%|#5        | 99.0M/658M [00:20<02:37, 3.71MB/s]\n",
      " 15%|#5        | 101M/658M [00:20<02:02, 4.76MB/s] \n",
      " 16%|#5        | 104M/658M [00:20<01:27, 6.63MB/s]\n",
      " 16%|#6        | 106M/658M [00:21<01:57, 4.90MB/s]\n",
      " 16%|#6        | 108M/658M [00:21<01:38, 5.83MB/s]\n",
      " 17%|#7        | 112M/658M [00:21<01:03, 8.97MB/s]\n",
      " 17%|#7        | 114M/658M [00:21<01:01, 9.33MB/s]\n",
      " 18%|#7        | 116M/658M [00:22<01:48, 5.22MB/s]\n",
      " 18%|#7        | 118M/658M [00:23<01:32, 6.13MB/s]\n",
      " 18%|#8        | 121M/658M [00:23<01:07, 8.31MB/s]\n",
      " 19%|#8        | 123M/658M [00:23<01:24, 6.61MB/s]\n",
      " 19%|#9        | 125M/658M [00:23<01:11, 7.84MB/s]\n",
      " 19%|#9        | 127M/658M [00:24<01:04, 8.69MB/s]\n",
      " 20%|#9        | 130M/658M [00:24<00:49, 11.2MB/s]\n",
      " 20%|##        | 132M/658M [00:24<01:00, 9.15MB/s]\n",
      " 20%|##        | 134M/658M [00:24<00:52, 10.5MB/s]\n",
      " 21%|##        | 136M/658M [00:24<00:45, 12.0MB/s]\n",
      " 21%|##        | 138M/658M [00:25<01:02, 8.66MB/s]\n",
      " 21%|##1       | 140M/658M [00:25<00:53, 10.1MB/s]\n",
      " 22%|##1       | 143M/658M [00:25<00:41, 13.0MB/s]\n",
      " 22%|##2       | 145M/658M [00:25<00:59, 9.11MB/s]\n",
      " 22%|##2       | 147M/658M [00:26<01:13, 7.32MB/s]\n",
      " 23%|##2       | 150M/658M [00:26<00:56, 9.45MB/s]\n",
      " 23%|##3       | 153M/658M [00:26<01:09, 7.63MB/s]\n",
      " 24%|##3       | 155M/658M [00:27<00:58, 9.03MB/s]\n",
      " 24%|##3       | 157M/658M [00:27<01:12, 7.23MB/s]\n",
      " 24%|##4       | 159M/658M [00:27<01:02, 8.42MB/s]\n",
      " 24%|##4       | 161M/658M [00:27<00:55, 9.43MB/s]\n",
      " 25%|##4       | 163M/658M [00:28<01:03, 8.21MB/s]\n",
      " 25%|##5       | 166M/658M [00:28<00:46, 11.0MB/s]\n",
      " 26%|##5       | 168M/658M [00:28<00:42, 12.1MB/s]\n",
      " 26%|##5       | 170M/658M [00:29<01:09, 7.38MB/s]\n",
      " 26%|##6       | 173M/658M [00:29<00:52, 9.74MB/s]\n",
      " 27%|##6       | 175M/658M [00:29<00:46, 10.9MB/s]\n",
      " 27%|##6       | 177M/658M [00:29<01:09, 7.24MB/s]\n",
      " 27%|##7       | 179M/658M [00:29<00:56, 8.82MB/s]\n",
      " 28%|##7       | 181M/658M [00:30<00:47, 10.6MB/s]\n",
      " 28%|##7       | 183M/658M [00:30<00:41, 11.9MB/s]\n",
      " 28%|##8       | 185M/658M [00:30<01:16, 6.50MB/s]\n",
      " 28%|##8       | 187M/658M [00:32<02:36, 3.15MB/s]\n",
      " 29%|##8       | 188M/658M [00:32<02:18, 3.56MB/s]\n",
      " 29%|##9       | 192M/658M [00:32<01:17, 6.33MB/s]\n",
      " 30%|##9       | 194M/658M [00:32<01:21, 5.96MB/s]\n",
      " 30%|##9       | 196M/658M [00:33<01:26, 5.61MB/s]\n",
      " 30%|###       | 199M/658M [00:33<01:01, 7.87MB/s]\n",
      " 31%|###       | 201M/658M [00:33<00:56, 8.43MB/s]\n",
      " 31%|###       | 203M/658M [00:34<01:04, 7.38MB/s]\n",
      " 31%|###1      | 205M/658M [00:34<00:53, 8.93MB/s]\n",
      " 31%|###1      | 207M/658M [00:34<00:46, 10.1MB/s]\n",
      " 32%|###1      | 209M/658M [00:34<00:50, 9.26MB/s]\n",
      " 32%|###2      | 212M/658M [00:34<00:41, 11.1MB/s]\n",
      " 33%|###2      | 215M/658M [00:34<00:34, 13.4MB/s]\n",
      " 33%|###3      | 217M/658M [00:35<00:34, 13.6MB/s]\n",
      " 33%|###3      | 219M/658M [00:35<01:12, 6.37MB/s]\n",
      " 34%|###3      | 221M/658M [00:36<00:59, 7.68MB/s]\n",
      " 34%|###4      | 224M/658M [00:36<00:44, 10.2MB/s]\n",
      " 34%|###4      | 226M/658M [00:37<01:43, 4.37MB/s]\n",
      " 35%|###4      | 228M/658M [00:38<01:55, 3.90MB/s]\n",
      " 35%|###5      | 231M/658M [00:38<01:19, 5.63MB/s]\n",
      " 35%|###5      | 233M/658M [00:38<01:34, 4.74MB/s]\n",
      " 36%|###5      | 235M/658M [00:40<02:31, 2.92MB/s]\n",
      " 36%|###6      | 238M/658M [00:40<01:41, 4.31MB/s]\n",
      " 36%|###6      | 240M/658M [00:40<01:24, 5.17MB/s]\n",
      " 37%|###6      | 242M/658M [00:41<02:11, 3.31MB/s]\n",
      " 37%|###7      | 244M/658M [00:42<01:42, 4.24MB/s]\n",
      " 38%|###7      | 247M/658M [00:42<01:08, 6.25MB/s]\n",
      " 38%|###7      | 249M/658M [00:42<01:11, 5.98MB/s]\n",
      " 38%|###8      | 251M/658M [00:42<01:12, 5.90MB/s]\n",
      " 39%|###8      | 254M/658M [00:43<00:51, 8.14MB/s]\n",
      " 39%|###8      | 256M/658M [00:43<00:44, 9.47MB/s]\n",
      " 39%|###9      | 258M/658M [00:44<02:03, 3.40MB/s]\n",
      " 40%|###9      | 260M/658M [00:45<01:40, 4.17MB/s]\n",
      " 40%|####      | 265M/658M [00:45<00:55, 7.42MB/s]\n",
      " 41%|####      | 267M/658M [00:45<01:01, 6.65MB/s]\n",
      " 41%|####      | 269M/658M [00:45<00:51, 7.92MB/s]\n",
      " 41%|####1     | 271M/658M [00:45<00:44, 9.06MB/s]\n",
      " 42%|####1     | 273M/658M [00:46<00:54, 7.39MB/s]\n",
      " 42%|####1     | 275M/658M [00:46<00:44, 8.97MB/s]\n",
      " 42%|####2     | 277M/658M [00:46<00:50, 7.88MB/s]\n",
      " 42%|####2     | 279M/658M [00:46<00:43, 9.14MB/s]\n",
      " 43%|####2     | 281M/658M [00:47<00:37, 10.6MB/s]\n",
      " 43%|####3     | 283M/658M [00:48<02:03, 3.18MB/s]\n",
      " 43%|####3     | 285M/658M [00:48<01:36, 4.06MB/s]\n",
      " 44%|####3     | 288M/658M [00:49<01:04, 6.00MB/s]\n",
      " 44%|####4     | 290M/658M [00:49<01:09, 5.54MB/s]\n",
      " 45%|####4     | 293M/658M [00:49<00:49, 7.67MB/s]\n",
      " 45%|####4     | 295M/658M [00:49<00:44, 8.59MB/s]\n",
      " 45%|####5     | 297M/658M [00:50<00:41, 9.16MB/s]\n",
      " 46%|####5     | 300M/658M [00:52<01:52, 3.32MB/s]\n",
      " 46%|####5     | 301M/658M [00:52<01:41, 3.67MB/s]\n",
      " 46%|####6     | 305M/658M [00:52<01:00, 6.09MB/s]\n",
      " 47%|####6     | 307M/658M [00:52<01:06, 5.57MB/s]\n",
      " 47%|####6     | 309M/658M [00:53<00:58, 6.29MB/s]\n",
      " 48%|####7     | 313M/658M [00:53<00:41, 8.66MB/s]\n",
      " 48%|####8     | 316M/658M [00:53<00:43, 8.23MB/s]\n",
      " 48%|####8     | 318M/658M [00:53<00:41, 8.55MB/s]\n",
      " 49%|####8     | 322M/658M [00:54<00:50, 7.03MB/s]\n",
      " 49%|####9     | 325M/658M [00:54<00:38, 9.13MB/s]\n",
      " 50%|####9     | 327M/658M [00:54<00:34, 10.1MB/s]\n",
      " 50%|#####     | 329M/658M [00:56<01:18, 4.40MB/s]\n",
      " 50%|#####     | 331M/658M [00:56<01:02, 5.49MB/s]\n",
      " 51%|#####     | 334M/658M [00:56<00:46, 7.23MB/s]\n",
      " 51%|#####1    | 336M/658M [00:56<00:39, 8.53MB/s]\n",
      " 51%|#####1    | 338M/658M [00:57<00:49, 6.80MB/s]\n",
      " 52%|#####2    | 342M/658M [00:57<00:35, 9.42MB/s]\n",
      " 52%|#####2    | 345M/658M [00:57<00:31, 10.3MB/s]\n",
      " 53%|#####2    | 347M/658M [00:57<00:28, 11.2MB/s]\n",
      " 53%|#####3    | 350M/658M [00:57<00:24, 13.2MB/s]\n",
      " 54%|#####3    | 352M/658M [00:57<00:22, 14.2MB/s]\n",
      " 54%|#####3    | 354M/658M [00:58<00:43, 7.29MB/s]\n",
      " 54%|#####4    | 357M/658M [00:58<00:31, 9.90MB/s]\n",
      " 55%|#####4    | 359M/658M [00:58<00:28, 11.2MB/s]\n",
      " 55%|#####4    | 361M/658M [00:59<00:45, 6.85MB/s]\n",
      " 55%|#####5    | 363M/658M [00:59<00:40, 7.54MB/s]\n",
      " 56%|#####5    | 366M/658M [00:59<00:29, 10.3MB/s]\n",
      " 56%|#####5    | 368M/658M [00:59<00:25, 11.9MB/s]\n",
      " 56%|#####6    | 370M/658M [01:00<00:51, 5.83MB/s]\n",
      " 57%|#####6    | 372M/658M [01:00<00:41, 7.28MB/s]\n",
      " 57%|#####6    | 374M/658M [01:01<00:35, 8.29MB/s]\n",
      " 57%|#####7    | 377M/658M [01:01<00:27, 10.7MB/s]\n",
      " 58%|#####7    | 379M/658M [01:01<00:41, 7.04MB/s]\n",
      " 58%|#####8    | 382M/658M [01:01<00:30, 9.57MB/s]\n",
      " 59%|#####8    | 385M/658M [01:02<00:26, 10.7MB/s]\n",
      " 59%|#####8    | 387M/658M [01:02<00:45, 6.27MB/s]\n",
      " 59%|#####9    | 390M/658M [01:03<00:33, 8.42MB/s]\n",
      " 60%|#####9    | 392M/658M [01:03<00:28, 9.71MB/s]\n",
      " 60%|#####9    | 394M/658M [01:03<00:35, 7.74MB/s]\n",
      " 60%|######    | 396M/658M [01:03<00:40, 6.77MB/s]\n",
      " 61%|######    | 401M/658M [01:04<00:26, 9.97MB/s]\n",
      " 61%|######1   | 403M/658M [01:04<00:33, 7.91MB/s]\n",
      " 62%|######1   | 406M/658M [01:04<00:26, 10.1MB/s]\n",
      " 62%|######2   | 408M/658M [01:04<00:23, 11.3MB/s]\n",
      " 62%|######2   | 410M/658M [01:05<00:42, 6.10MB/s]\n",
      " 63%|######2   | 413M/658M [01:05<00:31, 8.07MB/s]\n",
      " 63%|######3   | 415M/658M [01:06<00:27, 9.19MB/s]\n",
      " 63%|######3   | 417M/658M [01:06<00:35, 7.10MB/s]\n",
      " 64%|######3   | 420M/658M [01:06<00:26, 9.31MB/s]\n",
      " 64%|######4   | 422M/658M [01:06<00:22, 10.8MB/s]\n",
      " 64%|######4   | 424M/658M [01:06<00:21, 11.4MB/s]\n",
      " 65%|######4   | 426M/658M [01:08<01:02, 3.86MB/s]\n",
      " 65%|######5   | 428M/658M [01:08<01:00, 3.99MB/s]\n",
      " 65%|######5   | 430M/658M [01:09<00:46, 5.11MB/s]\n",
      " 66%|######5   | 432M/658M [01:09<00:38, 6.16MB/s]\n",
      " 66%|######6   | 434M/658M [01:09<00:37, 6.19MB/s]\n",
      " 66%|######6   | 437M/658M [01:09<00:27, 8.31MB/s]\n",
      " 67%|######6   | 440M/658M [01:09<00:21, 10.5MB/s]\n",
      " 67%|######7   | 442M/658M [01:10<00:29, 7.56MB/s]\n",
      " 68%|######7   | 444M/658M [01:10<00:26, 8.53MB/s]\n",
      " 68%|######7   | 447M/658M [01:10<00:19, 11.3MB/s]\n",
      " 68%|######8   | 449M/658M [01:11<00:26, 8.36MB/s]\n",
      " 69%|######8   | 451M/658M [01:11<00:22, 9.61MB/s]\n",
      " 69%|######9   | 454M/658M [01:11<00:17, 12.2MB/s]\n",
      " 69%|######9   | 456M/658M [01:11<00:16, 12.6MB/s]\n",
      " 70%|######9   | 458M/658M [01:11<00:17, 12.2MB/s]\n",
      " 70%|######9   | 460M/658M [01:12<00:28, 7.32MB/s]\n",
      " 70%|#######   | 462M/658M [01:12<00:25, 8.18MB/s]\n",
      " 71%|#######   | 465M/658M [01:12<00:17, 11.3MB/s]\n",
      " 71%|#######1  | 467M/658M [01:12<00:21, 9.09MB/s]\n",
      " 71%|#######1  | 469M/658M [01:13<00:18, 10.8MB/s]\n",
      " 72%|#######1  | 471M/658M [01:13<00:17, 11.5MB/s]\n",
      " 72%|#######1  | 473M/658M [01:13<00:18, 10.4MB/s]\n",
      " 72%|#######2  | 475M/658M [01:13<00:21, 9.06MB/s]\n",
      " 73%|#######2  | 477M/658M [01:13<00:19, 9.88MB/s]\n",
      " 73%|#######3  | 481M/658M [01:14<00:16, 11.0MB/s]\n",
      " 73%|#######3  | 483M/658M [01:14<00:22, 8.31MB/s]\n",
      " 74%|#######3  | 486M/658M [01:14<00:17, 10.5MB/s]\n",
      " 74%|#######4  | 488M/658M [01:14<00:16, 11.0MB/s]\n",
      " 75%|#######4  | 490M/658M [01:15<00:29, 6.02MB/s]\n",
      " 75%|#######4  | 491M/658M [01:15<00:28, 6.20MB/s]\n",
      " 75%|#######5  | 494M/658M [01:16<00:18, 9.14MB/s]\n",
      " 75%|#######5  | 496M/658M [01:16<00:16, 10.4MB/s]\n",
      " 76%|#######5  | 498M/658M [01:16<00:22, 7.59MB/s]\n",
      " 76%|#######6  | 500M/658M [01:16<00:18, 8.80MB/s]\n",
      " 76%|#######6  | 503M/658M [01:16<00:13, 11.9MB/s]\n",
      " 77%|#######6  | 505M/658M [01:17<00:13, 12.0MB/s]\n",
      " 77%|#######7  | 507M/658M [01:17<00:18, 8.57MB/s]\n",
      " 78%|#######7  | 510M/658M [01:17<00:13, 11.3MB/s]\n",
      " 78%|#######7  | 512M/658M [01:17<00:12, 12.5MB/s]\n",
      " 78%|#######8  | 514M/658M [01:18<00:16, 9.27MB/s]\n",
      " 79%|#######8  | 517M/658M [01:18<00:11, 12.4MB/s]\n",
      " 79%|#######8  | 519M/658M [01:18<00:10, 13.3MB/s]\n",
      " 79%|#######9  | 521M/658M [01:21<01:01, 2.32MB/s]\n",
      " 80%|#######9  | 523M/658M [01:21<00:45, 3.08MB/s]\n",
      " 80%|#######9  | 525M/658M [01:21<00:36, 3.78MB/s]\n",
      " 80%|########  | 529M/658M [01:22<00:27, 4.88MB/s]\n",
      " 81%|########  | 532M/658M [01:22<00:19, 6.67MB/s]\n",
      " 81%|########1 | 534M/658M [01:22<00:16, 7.81MB/s]\n",
      " 82%|########1 | 536M/658M [01:22<00:15, 8.13MB/s]\n",
      " 82%|########1 | 538M/658M [01:23<00:23, 5.42MB/s]\n",
      " 82%|########2 | 541M/658M [01:23<00:16, 7.54MB/s]\n",
      " 83%|########2 | 543M/658M [01:23<00:13, 8.59MB/s]\n",
      " 83%|########3 | 546M/658M [01:24<00:15, 7.37MB/s]\n",
      " 83%|########3 | 548M/658M [01:24<00:13, 8.78MB/s]\n",
      " 84%|########3 | 551M/658M [01:24<00:10, 11.0MB/s]\n",
      " 84%|########4 | 553M/658M [01:24<00:10, 10.7MB/s]\n",
      " 84%|########4 | 555M/658M [01:25<00:14, 7.53MB/s]\n",
      " 85%|########4 | 557M/658M [01:25<00:11, 9.12MB/s]\n",
      " 85%|########5 | 560M/658M [01:25<00:08, 11.7MB/s]\n",
      " 85%|########5 | 562M/658M [01:26<00:21, 4.59MB/s]\n",
      " 86%|########5 | 564M/658M [01:26<00:18, 5.43MB/s]\n",
      " 86%|########6 | 568M/658M [01:26<00:10, 8.54MB/s]\n",
      " 87%|########6 | 570M/658M [01:27<00:12, 7.63MB/s]\n",
      " 87%|########6 | 572M/658M [01:27<00:16, 5.57MB/s]\n",
      " 87%|########7 | 574M/658M [01:28<00:12, 6.90MB/s]\n",
      " 88%|########7 | 576M/658M [01:28<00:10, 8.16MB/s]\n",
      " 88%|########7 | 578M/658M [01:29<00:16, 4.94MB/s]\n",
      " 88%|########8 | 581M/658M [01:29<00:11, 7.04MB/s]\n",
      " 89%|########8 | 583M/658M [01:29<00:09, 8.50MB/s]\n",
      " 89%|########8 | 585M/658M [01:30<00:13, 5.47MB/s]\n",
      " 89%|########9 | 587M/658M [01:30<00:16, 4.54MB/s]\n",
      " 90%|########9 | 590M/658M [01:30<00:10, 6.55MB/s]\n",
      " 90%|######### | 592M/658M [01:30<00:08, 7.98MB/s]\n",
      " 90%|######### | 594M/658M [01:31<00:08, 7.91MB/s]\n",
      " 91%|######### | 596M/658M [01:31<00:07, 9.16MB/s]\n",
      " 91%|######### | 598M/658M [01:31<00:05, 10.5MB/s]\n",
      " 91%|#########1| 601M/658M [01:31<00:04, 13.1MB/s]\n",
      " 92%|#########1| 603M/658M [01:32<00:06, 8.56MB/s]\n",
      " 92%|#########2| 606M/658M [01:32<00:04, 10.9MB/s]\n",
      " 92%|#########2| 608M/658M [01:32<00:04, 11.5MB/s]\n",
      " 93%|#########2| 610M/658M [01:32<00:06, 7.74MB/s]\n",
      " 93%|#########3| 612M/658M [01:33<00:07, 6.65MB/s]\n",
      " 93%|#########3| 613M/658M [01:33<00:06, 7.03MB/s]\n",
      " 94%|#########3| 615M/658M [01:33<00:05, 8.89MB/s]\n",
      " 94%|#########3| 618M/658M [01:34<00:06, 6.84MB/s]\n",
      " 95%|#########4| 622M/658M [01:34<00:03, 10.3MB/s]\n",
      " 95%|#########4| 624M/658M [01:34<00:03, 10.7MB/s]\n",
      " 95%|#########5| 626M/658M [01:35<00:04, 7.53MB/s]\n",
      " 96%|#########5| 628M/658M [01:35<00:03, 8.40MB/s]\n",
      " 96%|#########6| 632M/658M [01:35<00:02, 11.9MB/s]\n",
      " 96%|#########6| 634M/658M [01:35<00:02, 12.1MB/s]\n",
      " 97%|#########6| 636M/658M [01:35<00:02, 8.50MB/s]\n",
      " 97%|#########7| 638M/658M [01:36<00:02, 9.78MB/s]\n",
      " 97%|#########7| 641M/658M [01:36<00:01, 12.0MB/s]\n",
      " 98%|#########7| 643M/658M [01:36<00:02, 7.09MB/s]\n",
      " 98%|#########8| 646M/658M [01:37<00:01, 9.34MB/s]\n",
      " 99%|#########8| 648M/658M [01:37<00:01, 9.93MB/s]\n",
      " 99%|#########8| 650M/658M [01:37<00:01, 7.13MB/s]\n",
      " 99%|#########9| 652M/658M [01:37<00:00, 8.11MB/s]\n",
      "100%|#########9| 655M/658M [01:38<00:00, 10.5MB/s]\n",
      "100%|##########| 658M/658M [01:38<00:00, 12.8MB/s]\n",
      "100%|##########| 658M/658M [01:38<00:00, 7.03MB/s]\n"
     ]
    }
   ],
   "source": [
    "! kaggle datasets download -d emmarex/plantdisease"
   ]
  },
  {
   "cell_type": "code",
   "execution_count": 4,
   "id": "460e297f",
   "metadata": {},
   "outputs": [],
   "source": [
    "import zipfile\n",
    "with zipfile.ZipFile('dataset/plantdisease.zip', 'r') as zips:\n",
    "    zips.extractall('dataset')"
   ]
  },
  {
   "cell_type": "code",
   "execution_count": 6,
   "id": "0c6975b9",
   "metadata": {
    "scrolled": true
   },
   "outputs": [],
   "source": [
    "import tensorflow as tf\n",
    "from tensorflow import keras\n",
    "from keras import layers\n",
    "from keras.preprocessing.image import ImageDataGenerator as IDG\n",
    "from keras.models import Sequential, Model, load_model\n",
    "from keras.layers import Input, Conv2D, MaxPooling2D, concatenate\n",
    "from keras.utils import plot_model"
   ]
  },
  {
   "cell_type": "code",
   "execution_count": 7,
   "id": "7c841158",
   "metadata": {},
   "outputs": [],
   "source": [
    "dat = 'dataset/PlantVillage'"
   ]
  },
  {
   "cell_type": "code",
   "execution_count": 9,
   "id": "9b29c6fd",
   "metadata": {},
   "outputs": [],
   "source": [
    "# PARAMETERS\n",
    "\n",
    "BATCH_SIZE = 32\n",
    "IMG_SIZE = (200, 200)\n",
    "EPOCHS = 10"
   ]
  },
  {
   "cell_type": "code",
   "execution_count": 12,
   "id": "efc1a69a",
   "metadata": {},
   "outputs": [
    {
     "name": "stdout",
     "output_type": "stream",
     "text": [
      "Found 14452 images belonging to 15 classes.\n",
      "Found 6186 images belonging to 15 classes.\n"
     ]
    }
   ],
   "source": [
    "train_datagen = IDG(\n",
    "    rescale = 1/.225,\n",
    "    shear_range=0.2,\n",
    "    zoom_range=0.2,\n",
    "    width_shift_range=20,\n",
    "    height_shift_range=20,\n",
    "    rotation_range=0.2,\n",
    "    validation_split=0.3,\n",
    "#     preprocessing_function=preprocess_input,\n",
    "    horizontal_flip=True,\n",
    ")\n",
    "\n",
    "### THIS BLOICK IS FOR USING A SEPERATE VALIDATION FOLDER ###\n",
    "\n",
    "# valid_datagen = IDG(\n",
    "#     rescale = 1/.225,\n",
    "#     shear_range=0.2,\n",
    "#     zoom_range=0.2,\n",
    "#     width_shift_range=20,\n",
    "#     height_shift_range=20,\n",
    "#     rotation_range=0.2,\n",
    "# #     preprocessing_function=preprocess_input,\n",
    "#     horizontal_flip=True,\n",
    "# )\n",
    "\n",
    "train_gen = train_datagen.flow_from_directory(\n",
    "    dat,\n",
    "    target_size=IMG_SIZE,\n",
    "    batch_size=BATCH_SIZE,\n",
    "    subset='training',\n",
    "    class_mode='categorical',\n",
    "    shuffle=True,\n",
    ")\n",
    "\n",
    "valid_gen = train_datagen.flow_from_directory(\n",
    "    dat,\n",
    "    target_size=IMG_SIZE,\n",
    "    batch_size=BATCH_SIZE,\n",
    "    subset='validation',\n",
    "    class_mode='categorical',\n",
    "    shuffle=True,\n",
    ")"
   ]
  },
  {
   "cell_type": "code",
   "execution_count": 13,
   "id": "9384f3e9",
   "metadata": {},
   "outputs": [
    {
     "data": {
      "text/plain": [
       "15"
      ]
     },
     "execution_count": 13,
     "metadata": {},
     "output_type": "execute_result"
    }
   ],
   "source": [
    "class_count = len(list(train_gen.class_indices.keys()))\n",
    "class_count"
   ]
  },
  {
   "cell_type": "code",
   "execution_count": 34,
   "id": "1d0aebb3",
   "metadata": {},
   "outputs": [
    {
     "data": {
      "text/plain": [
       "['Pepper__bell___Bacterial_spot',\n",
       " 'Pepper__bell___healthy',\n",
       " 'Potato___Early_blight',\n",
       " 'Potato___Late_blight',\n",
       " 'Potato___healthy',\n",
       " 'Tomato_Bacterial_spot',\n",
       " 'Tomato_Early_blight',\n",
       " 'Tomato_Late_blight',\n",
       " 'Tomato_Leaf_Mold',\n",
       " 'Tomato_Septoria_leaf_spot',\n",
       " 'Tomato_Spider_mites_Two_spotted_spider_mite',\n",
       " 'Tomato__Target_Spot',\n",
       " 'Tomato__Tomato_YellowLeaf__Curl_Virus',\n",
       " 'Tomato__Tomato_mosaic_virus',\n",
       " 'Tomato_healthy']"
      ]
     },
     "execution_count": 34,
     "metadata": {},
     "output_type": "execute_result"
    }
   ],
   "source": [
    "labels = train_gen.class_indices\n",
    "lab = list(labels)\n",
    "lab"
   ]
  },
  {
   "cell_type": "code",
   "execution_count": 15,
   "id": "ba8b276e",
   "metadata": {},
   "outputs": [
    {
     "data": {
      "text/plain": [
       "['Pepper__bell___Bacterial_spot',\n",
       " 'Pepper__bell___healthy',\n",
       " 'Potato___Early_blight',\n",
       " 'Potato___healthy',\n",
       " 'Potato___Late_blight',\n",
       " 'Tomato_Bacterial_spot',\n",
       " 'Tomato_Early_blight',\n",
       " 'Tomato_healthy',\n",
       " 'Tomato_Late_blight',\n",
       " 'Tomato_Leaf_Mold',\n",
       " 'Tomato_Septoria_leaf_spot',\n",
       " 'Tomato_Spider_mites_Two_spotted_spider_mite',\n",
       " 'Tomato__Target_Spot',\n",
       " 'Tomato__Tomato_mosaic_virus',\n",
       " 'Tomato__Tomato_YellowLeaf__Curl_Virus']"
      ]
     },
     "execution_count": 15,
     "metadata": {},
     "output_type": "execute_result"
    }
   ],
   "source": [
    "import os\n",
    "\n",
    "# Set the directory path\n",
    "directory_path = dat\n",
    "\n",
    "names = []\n",
    "\n",
    "# Iterate through the directories in the path\n",
    "for dir_name in os.listdir(directory_path):\n",
    "    if os.path.isdir(os.path.join(directory_path, dir_name)):\n",
    "        # Print the name of the directory if it is a directory\n",
    "        names.append(dir_name)\n",
    "        # print(dir_name)\n",
    "\n",
    "names"
   ]
  },
  {
   "cell_type": "code",
   "execution_count": 46,
   "id": "96546219",
   "metadata": {},
   "outputs": [
    {
     "name": "stdout",
     "output_type": "stream",
     "text": [
      "Model: \"sequential_2\"\n",
      "_________________________________________________________________\n",
      " Layer (type)                Output Shape              Param #   \n",
      "=================================================================\n",
      " conv2d_13 (Conv2D)          (None, 198, 198, 32)      896       \n",
      "                                                                 \n",
      " max_pooling2d_9 (MaxPooling  (None, 99, 99, 32)       0         \n",
      " 2D)                                                             \n",
      "                                                                 \n",
      " dropout (Dropout)           (None, 99, 99, 32)        0         \n",
      "                                                                 \n",
      " conv2d_14 (Conv2D)          (None, 97, 97, 32)        9248      \n",
      "                                                                 \n",
      " max_pooling2d_10 (MaxPoolin  (None, 48, 48, 32)       0         \n",
      " g2D)                                                            \n",
      "                                                                 \n",
      " dropout_1 (Dropout)         (None, 48, 48, 32)        0         \n",
      "                                                                 \n",
      " conv2d_15 (Conv2D)          (None, 46, 46, 64)        18496     \n",
      "                                                                 \n",
      " max_pooling2d_11 (MaxPoolin  (None, 23, 23, 64)       0         \n",
      " g2D)                                                            \n",
      "                                                                 \n",
      " dropout_2 (Dropout)         (None, 23, 23, 64)        0         \n",
      "                                                                 \n",
      " conv2d_16 (Conv2D)          (None, 21, 21, 64)        36928     \n",
      "                                                                 \n",
      " max_pooling2d_12 (MaxPoolin  (None, 10, 10, 64)       0         \n",
      " g2D)                                                            \n",
      "                                                                 \n",
      " flatten_2 (Flatten)         (None, 6400)              0         \n",
      "                                                                 \n",
      " dense_4 (Dense)             (None, 512)               3277312   \n",
      "                                                                 \n",
      " dropout_3 (Dropout)         (None, 512)               0         \n",
      "                                                                 \n",
      " dense_5 (Dense)             (None, 15)                7695      \n",
      "                                                                 \n",
      "=================================================================\n",
      "Total params: 3,350,575\n",
      "Trainable params: 3,350,575\n",
      "Non-trainable params: 0\n",
      "_________________________________________________________________\n",
      "You must install pydot (`pip install pydot`) and install graphviz (see instructions at https://graphviz.gitlab.io/download/) for plot_model to work.\n"
     ]
    }
   ],
   "source": [
    "# function for creating a naive inception block\n",
    "def naive_inception_module(layer_in, f1, f2, f3):\n",
    "\t# 1x1 conv\n",
    "\tconv1 = Conv2D(f1, (1,1), padding='same', activation='relu')(layer_in)\n",
    "\t# 3x3 conv\n",
    "\tconv3 = Conv2D(f2, (3,3), padding='same', activation='relu')(layer_in)\n",
    "\t# 5x5 conv\n",
    "\tconv5 = Conv2D(f3, (5,5), padding='same', activation='relu')(layer_in)\n",
    "\t# 3x3 max pooling\n",
    "\tpool = MaxPooling2D((3,3), strides=(1,1), padding='same')(layer_in)\n",
    "\t# concatenate filters, assumes filters/channels last\n",
    "\tlayer_out = concatenate([conv1, conv3, conv5, pool], axis=-1)\n",
    "\treturn layer_out\n",
    "\n",
    "# define model input\n",
    "visible = Input(shape=(256, 256, 3))\n",
    "# add inception module\n",
    "layer = naive_inception_module(visible, 64, 128, 32)\n",
    "# create model\n",
    "model1 = Model(inputs=visible, outputs=layer)\n",
    "# summarize model\n",
    "model.summary()\n",
    "# plot model architecture\n",
    "plot_model(model1, show_shapes=True, to_file='naive_inception_module.png')"
   ]
  },
  {
   "cell_type": "code",
   "execution_count": 39,
   "id": "4166f1bb",
   "metadata": {},
   "outputs": [
    {
     "name": "stdout",
     "output_type": "stream",
     "text": [
      "Model: \"sequential_2\"\n",
      "_________________________________________________________________\n",
      " Layer (type)                Output Shape              Param #   \n",
      "=================================================================\n",
      " conv2d_13 (Conv2D)          (None, 198, 198, 32)      896       \n",
      "                                                                 \n",
      " max_pooling2d_9 (MaxPooling  (None, 99, 99, 32)       0         \n",
      " 2D)                                                             \n",
      "                                                                 \n",
      " dropout (Dropout)           (None, 99, 99, 32)        0         \n",
      "                                                                 \n",
      " conv2d_14 (Conv2D)          (None, 97, 97, 32)        9248      \n",
      "                                                                 \n",
      " max_pooling2d_10 (MaxPoolin  (None, 48, 48, 32)       0         \n",
      " g2D)                                                            \n",
      "                                                                 \n",
      " dropout_1 (Dropout)         (None, 48, 48, 32)        0         \n",
      "                                                                 \n",
      " conv2d_15 (Conv2D)          (None, 46, 46, 64)        18496     \n",
      "                                                                 \n",
      " max_pooling2d_11 (MaxPoolin  (None, 23, 23, 64)       0         \n",
      " g2D)                                                            \n",
      "                                                                 \n",
      " dropout_2 (Dropout)         (None, 23, 23, 64)        0         \n",
      "                                                                 \n",
      " conv2d_16 (Conv2D)          (None, 21, 21, 64)        36928     \n",
      "                                                                 \n",
      " max_pooling2d_12 (MaxPoolin  (None, 10, 10, 64)       0         \n",
      " g2D)                                                            \n",
      "                                                                 \n",
      " flatten_2 (Flatten)         (None, 6400)              0         \n",
      "                                                                 \n",
      " dense_4 (Dense)             (None, 512)               3277312   \n",
      "                                                                 \n",
      " dropout_3 (Dropout)         (None, 512)               0         \n",
      "                                                                 \n",
      " dense_5 (Dense)             (None, 15)                7695      \n",
      "                                                                 \n",
      "=================================================================\n",
      "Total params: 3,350,575\n",
      "Trainable params: 3,350,575\n",
      "Non-trainable params: 0\n",
      "_________________________________________________________________\n"
     ]
    }
   ],
   "source": [
    "model = Sequential([\n",
    "    layers.Conv2D(32, (3,3), activation='relu', padding='valid', input_shape=(200, 200, 3)),\n",
    "    layers.MaxPooling2D(pool_size=(2,2)),\n",
    "    layers.Dropout(0.2),\n",
    "    layers.Conv2D(32, (3,3), activation='relu', padding='valid'),\n",
    "    layers.MaxPooling2D(pool_size=(2,2)),\n",
    "    layers.Dropout(0.2),\n",
    "    layers.Conv2D(64, (3,3), activation='relu', padding='valid'),\n",
    "    layers.MaxPooling2D(pool_size=(2,2)),\n",
    "    layers.Dropout(0.2),\n",
    "    layers.Conv2D(64, (3,3), activation='relu', padding='valid'),\n",
    "    layers.MaxPooling2D(pool_size=(2,2)),\n",
    "    \n",
    "    layers.Flatten(),\n",
    "    layers.Dense(512, activation='relu'),\n",
    "    layers.Dropout(0.2),\n",
    "    layers.Dense(class_count, activation='softmax')\n",
    "])\n",
    "model.summary()"
   ]
  },
  {
   "cell_type": "code",
   "execution_count": 40,
   "id": "8dba4ac6",
   "metadata": {},
   "outputs": [],
   "source": [
    "opt = keras.optimizers.Adam(learning_rate=1e-3)\n",
    "\n",
    "model.compile(loss='categorical_crossentropy', optimizer=\"adam\", metrics=['accuracy'])"
   ]
  },
  {
   "cell_type": "code",
   "execution_count": 41,
   "id": "449d42c0",
   "metadata": {},
   "outputs": [
    {
     "name": "stdout",
     "output_type": "stream",
     "text": [
      "Epoch 1/10\n",
      "451/451 [==============================] - ETA: 0s - loss: 14.0327 - accuracy: 0.1668"
     ]
    },
    {
     "ename": "KeyboardInterrupt",
     "evalue": "",
     "output_type": "error",
     "traceback": [
      "\u001b[1;31m---------------------------------------------------------------------------\u001b[0m",
      "\u001b[1;31mKeyboardInterrupt\u001b[0m                         Traceback (most recent call last)",
      "Input \u001b[1;32mIn [41]\u001b[0m, in \u001b[0;36m<cell line: 1>\u001b[1;34m()\u001b[0m\n\u001b[1;32m----> 1\u001b[0m history \u001b[38;5;241m=\u001b[39m \u001b[43mmodel\u001b[49m\u001b[38;5;241;43m.\u001b[39;49m\u001b[43mfit\u001b[49m\u001b[43m(\u001b[49m\u001b[43mtrain_gen\u001b[49m\u001b[43m,\u001b[49m\u001b[43m \u001b[49m\u001b[43mvalidation_data\u001b[49m\u001b[43m \u001b[49m\u001b[38;5;241;43m=\u001b[39;49m\u001b[43m \u001b[49m\u001b[43mvalid_gen\u001b[49m\u001b[43m,\u001b[49m\u001b[43m \u001b[49m\u001b[43msteps_per_epoch\u001b[49m\u001b[43m \u001b[49m\u001b[38;5;241;43m=\u001b[39;49m\u001b[43m \u001b[49m\u001b[43mtrain_gen\u001b[49m\u001b[38;5;241;43m.\u001b[39;49m\u001b[43msamples\u001b[49m\u001b[38;5;241;43m/\u001b[39;49m\u001b[38;5;241;43m/\u001b[39;49m\u001b[43mBATCH_SIZE\u001b[49m\u001b[43m,\u001b[49m\u001b[43m \u001b[49m\u001b[43mvalidation_steps\u001b[49m\u001b[43m \u001b[49m\u001b[38;5;241;43m=\u001b[39;49m\u001b[43m \u001b[49m\u001b[43mvalid_gen\u001b[49m\u001b[38;5;241;43m.\u001b[39;49m\u001b[43msamples\u001b[49m\u001b[38;5;241;43m/\u001b[39;49m\u001b[38;5;241;43m/\u001b[39;49m\u001b[43mBATCH_SIZE\u001b[49m\u001b[43m,\u001b[49m\u001b[43m \u001b[49m\u001b[43mepochs\u001b[49m\u001b[38;5;241;43m=\u001b[39;49m\u001b[43mEPOCHS\u001b[49m\u001b[43m,\u001b[49m\u001b[43m \u001b[49m\u001b[43mverbose\u001b[49m\u001b[38;5;241;43m=\u001b[39;49m\u001b[38;5;241;43m1\u001b[39;49m\u001b[43m)\u001b[49m\n",
      "File \u001b[1;32m~\\anaconda3\\envs\\tensor\\lib\\site-packages\\keras\\utils\\traceback_utils.py:65\u001b[0m, in \u001b[0;36mfilter_traceback.<locals>.error_handler\u001b[1;34m(*args, **kwargs)\u001b[0m\n\u001b[0;32m     63\u001b[0m filtered_tb \u001b[38;5;241m=\u001b[39m \u001b[38;5;28;01mNone\u001b[39;00m\n\u001b[0;32m     64\u001b[0m \u001b[38;5;28;01mtry\u001b[39;00m:\n\u001b[1;32m---> 65\u001b[0m     \u001b[38;5;28;01mreturn\u001b[39;00m \u001b[43mfn\u001b[49m\u001b[43m(\u001b[49m\u001b[38;5;241;43m*\u001b[39;49m\u001b[43margs\u001b[49m\u001b[43m,\u001b[49m\u001b[43m \u001b[49m\u001b[38;5;241;43m*\u001b[39;49m\u001b[38;5;241;43m*\u001b[39;49m\u001b[43mkwargs\u001b[49m\u001b[43m)\u001b[49m\n\u001b[0;32m     66\u001b[0m \u001b[38;5;28;01mexcept\u001b[39;00m \u001b[38;5;167;01mException\u001b[39;00m \u001b[38;5;28;01mas\u001b[39;00m e:\n\u001b[0;32m     67\u001b[0m     filtered_tb \u001b[38;5;241m=\u001b[39m _process_traceback_frames(e\u001b[38;5;241m.\u001b[39m__traceback__)\n",
      "File \u001b[1;32m~\\anaconda3\\envs\\tensor\\lib\\site-packages\\keras\\engine\\training.py:1606\u001b[0m, in \u001b[0;36mModel.fit\u001b[1;34m(self, x, y, batch_size, epochs, verbose, callbacks, validation_split, validation_data, shuffle, class_weight, sample_weight, initial_epoch, steps_per_epoch, validation_steps, validation_batch_size, validation_freq, max_queue_size, workers, use_multiprocessing)\u001b[0m\n\u001b[0;32m   1591\u001b[0m \u001b[38;5;28;01mif\u001b[39;00m \u001b[38;5;28mgetattr\u001b[39m(\u001b[38;5;28mself\u001b[39m, \u001b[38;5;124m\"\u001b[39m\u001b[38;5;124m_eval_data_handler\u001b[39m\u001b[38;5;124m\"\u001b[39m, \u001b[38;5;28;01mNone\u001b[39;00m) \u001b[38;5;129;01mis\u001b[39;00m \u001b[38;5;28;01mNone\u001b[39;00m:\n\u001b[0;32m   1592\u001b[0m     \u001b[38;5;28mself\u001b[39m\u001b[38;5;241m.\u001b[39m_eval_data_handler \u001b[38;5;241m=\u001b[39m data_adapter\u001b[38;5;241m.\u001b[39mget_data_handler(\n\u001b[0;32m   1593\u001b[0m         x\u001b[38;5;241m=\u001b[39mval_x,\n\u001b[0;32m   1594\u001b[0m         y\u001b[38;5;241m=\u001b[39mval_y,\n\u001b[1;32m   (...)\u001b[0m\n\u001b[0;32m   1604\u001b[0m         steps_per_execution\u001b[38;5;241m=\u001b[39m\u001b[38;5;28mself\u001b[39m\u001b[38;5;241m.\u001b[39m_steps_per_execution,\n\u001b[0;32m   1605\u001b[0m     )\n\u001b[1;32m-> 1606\u001b[0m val_logs \u001b[38;5;241m=\u001b[39m \u001b[38;5;28;43mself\u001b[39;49m\u001b[38;5;241;43m.\u001b[39;49m\u001b[43mevaluate\u001b[49m\u001b[43m(\u001b[49m\n\u001b[0;32m   1607\u001b[0m \u001b[43m    \u001b[49m\u001b[43mx\u001b[49m\u001b[38;5;241;43m=\u001b[39;49m\u001b[43mval_x\u001b[49m\u001b[43m,\u001b[49m\n\u001b[0;32m   1608\u001b[0m \u001b[43m    \u001b[49m\u001b[43my\u001b[49m\u001b[38;5;241;43m=\u001b[39;49m\u001b[43mval_y\u001b[49m\u001b[43m,\u001b[49m\n\u001b[0;32m   1609\u001b[0m \u001b[43m    \u001b[49m\u001b[43msample_weight\u001b[49m\u001b[38;5;241;43m=\u001b[39;49m\u001b[43mval_sample_weight\u001b[49m\u001b[43m,\u001b[49m\n\u001b[0;32m   1610\u001b[0m \u001b[43m    \u001b[49m\u001b[43mbatch_size\u001b[49m\u001b[38;5;241;43m=\u001b[39;49m\u001b[43mvalidation_batch_size\u001b[49m\u001b[43m \u001b[49m\u001b[38;5;129;43;01mor\u001b[39;49;00m\u001b[43m \u001b[49m\u001b[43mbatch_size\u001b[49m\u001b[43m,\u001b[49m\n\u001b[0;32m   1611\u001b[0m \u001b[43m    \u001b[49m\u001b[43msteps\u001b[49m\u001b[38;5;241;43m=\u001b[39;49m\u001b[43mvalidation_steps\u001b[49m\u001b[43m,\u001b[49m\n\u001b[0;32m   1612\u001b[0m \u001b[43m    \u001b[49m\u001b[43mcallbacks\u001b[49m\u001b[38;5;241;43m=\u001b[39;49m\u001b[43mcallbacks\u001b[49m\u001b[43m,\u001b[49m\n\u001b[0;32m   1613\u001b[0m \u001b[43m    \u001b[49m\u001b[43mmax_queue_size\u001b[49m\u001b[38;5;241;43m=\u001b[39;49m\u001b[43mmax_queue_size\u001b[49m\u001b[43m,\u001b[49m\n\u001b[0;32m   1614\u001b[0m \u001b[43m    \u001b[49m\u001b[43mworkers\u001b[49m\u001b[38;5;241;43m=\u001b[39;49m\u001b[43mworkers\u001b[49m\u001b[43m,\u001b[49m\n\u001b[0;32m   1615\u001b[0m \u001b[43m    \u001b[49m\u001b[43muse_multiprocessing\u001b[49m\u001b[38;5;241;43m=\u001b[39;49m\u001b[43muse_multiprocessing\u001b[49m\u001b[43m,\u001b[49m\n\u001b[0;32m   1616\u001b[0m \u001b[43m    \u001b[49m\u001b[43mreturn_dict\u001b[49m\u001b[38;5;241;43m=\u001b[39;49m\u001b[38;5;28;43;01mTrue\u001b[39;49;00m\u001b[43m,\u001b[49m\n\u001b[0;32m   1617\u001b[0m \u001b[43m    \u001b[49m\u001b[43m_use_cached_eval_dataset\u001b[49m\u001b[38;5;241;43m=\u001b[39;49m\u001b[38;5;28;43;01mTrue\u001b[39;49;00m\u001b[43m,\u001b[49m\n\u001b[0;32m   1618\u001b[0m \u001b[43m\u001b[49m\u001b[43m)\u001b[49m\n\u001b[0;32m   1619\u001b[0m val_logs \u001b[38;5;241m=\u001b[39m {\n\u001b[0;32m   1620\u001b[0m     \u001b[38;5;124m\"\u001b[39m\u001b[38;5;124mval_\u001b[39m\u001b[38;5;124m\"\u001b[39m \u001b[38;5;241m+\u001b[39m name: val \u001b[38;5;28;01mfor\u001b[39;00m name, val \u001b[38;5;129;01min\u001b[39;00m val_logs\u001b[38;5;241m.\u001b[39mitems()\n\u001b[0;32m   1621\u001b[0m }\n\u001b[0;32m   1622\u001b[0m epoch_logs\u001b[38;5;241m.\u001b[39mupdate(val_logs)\n",
      "File \u001b[1;32m~\\anaconda3\\envs\\tensor\\lib\\site-packages\\keras\\utils\\traceback_utils.py:65\u001b[0m, in \u001b[0;36mfilter_traceback.<locals>.error_handler\u001b[1;34m(*args, **kwargs)\u001b[0m\n\u001b[0;32m     63\u001b[0m filtered_tb \u001b[38;5;241m=\u001b[39m \u001b[38;5;28;01mNone\u001b[39;00m\n\u001b[0;32m     64\u001b[0m \u001b[38;5;28;01mtry\u001b[39;00m:\n\u001b[1;32m---> 65\u001b[0m     \u001b[38;5;28;01mreturn\u001b[39;00m \u001b[43mfn\u001b[49m\u001b[43m(\u001b[49m\u001b[38;5;241;43m*\u001b[39;49m\u001b[43margs\u001b[49m\u001b[43m,\u001b[49m\u001b[43m \u001b[49m\u001b[38;5;241;43m*\u001b[39;49m\u001b[38;5;241;43m*\u001b[39;49m\u001b[43mkwargs\u001b[49m\u001b[43m)\u001b[49m\n\u001b[0;32m     66\u001b[0m \u001b[38;5;28;01mexcept\u001b[39;00m \u001b[38;5;167;01mException\u001b[39;00m \u001b[38;5;28;01mas\u001b[39;00m e:\n\u001b[0;32m     67\u001b[0m     filtered_tb \u001b[38;5;241m=\u001b[39m _process_traceback_frames(e\u001b[38;5;241m.\u001b[39m__traceback__)\n",
      "File \u001b[1;32m~\\anaconda3\\envs\\tensor\\lib\\site-packages\\keras\\engine\\training.py:1947\u001b[0m, in \u001b[0;36mModel.evaluate\u001b[1;34m(self, x, y, batch_size, verbose, sample_weight, steps, callbacks, max_queue_size, workers, use_multiprocessing, return_dict, **kwargs)\u001b[0m\n\u001b[0;32m   1943\u001b[0m \u001b[38;5;28;01mwith\u001b[39;00m tf\u001b[38;5;241m.\u001b[39mprofiler\u001b[38;5;241m.\u001b[39mexperimental\u001b[38;5;241m.\u001b[39mTrace(\n\u001b[0;32m   1944\u001b[0m     \u001b[38;5;124m\"\u001b[39m\u001b[38;5;124mtest\u001b[39m\u001b[38;5;124m\"\u001b[39m, step_num\u001b[38;5;241m=\u001b[39mstep, _r\u001b[38;5;241m=\u001b[39m\u001b[38;5;241m1\u001b[39m\n\u001b[0;32m   1945\u001b[0m ):\n\u001b[0;32m   1946\u001b[0m     callbacks\u001b[38;5;241m.\u001b[39mon_test_batch_begin(step)\n\u001b[1;32m-> 1947\u001b[0m     tmp_logs \u001b[38;5;241m=\u001b[39m \u001b[38;5;28;43mself\u001b[39;49m\u001b[38;5;241;43m.\u001b[39;49m\u001b[43mtest_function\u001b[49m\u001b[43m(\u001b[49m\u001b[43miterator\u001b[49m\u001b[43m)\u001b[49m\n\u001b[0;32m   1948\u001b[0m     \u001b[38;5;28;01mif\u001b[39;00m data_handler\u001b[38;5;241m.\u001b[39mshould_sync:\n\u001b[0;32m   1949\u001b[0m         context\u001b[38;5;241m.\u001b[39masync_wait()\n",
      "File \u001b[1;32m~\\anaconda3\\envs\\tensor\\lib\\site-packages\\tensorflow\\python\\util\\traceback_utils.py:150\u001b[0m, in \u001b[0;36mfilter_traceback.<locals>.error_handler\u001b[1;34m(*args, **kwargs)\u001b[0m\n\u001b[0;32m    148\u001b[0m filtered_tb \u001b[38;5;241m=\u001b[39m \u001b[38;5;28;01mNone\u001b[39;00m\n\u001b[0;32m    149\u001b[0m \u001b[38;5;28;01mtry\u001b[39;00m:\n\u001b[1;32m--> 150\u001b[0m   \u001b[38;5;28;01mreturn\u001b[39;00m \u001b[43mfn\u001b[49m\u001b[43m(\u001b[49m\u001b[38;5;241;43m*\u001b[39;49m\u001b[43margs\u001b[49m\u001b[43m,\u001b[49m\u001b[43m \u001b[49m\u001b[38;5;241;43m*\u001b[39;49m\u001b[38;5;241;43m*\u001b[39;49m\u001b[43mkwargs\u001b[49m\u001b[43m)\u001b[49m\n\u001b[0;32m    151\u001b[0m \u001b[38;5;28;01mexcept\u001b[39;00m \u001b[38;5;167;01mException\u001b[39;00m \u001b[38;5;28;01mas\u001b[39;00m e:\n\u001b[0;32m    152\u001b[0m   filtered_tb \u001b[38;5;241m=\u001b[39m _process_traceback_frames(e\u001b[38;5;241m.\u001b[39m__traceback__)\n",
      "File \u001b[1;32m~\\anaconda3\\envs\\tensor\\lib\\site-packages\\tensorflow\\python\\eager\\def_function.py:915\u001b[0m, in \u001b[0;36mFunction.__call__\u001b[1;34m(self, *args, **kwds)\u001b[0m\n\u001b[0;32m    912\u001b[0m compiler \u001b[38;5;241m=\u001b[39m \u001b[38;5;124m\"\u001b[39m\u001b[38;5;124mxla\u001b[39m\u001b[38;5;124m\"\u001b[39m \u001b[38;5;28;01mif\u001b[39;00m \u001b[38;5;28mself\u001b[39m\u001b[38;5;241m.\u001b[39m_jit_compile \u001b[38;5;28;01melse\u001b[39;00m \u001b[38;5;124m\"\u001b[39m\u001b[38;5;124mnonXla\u001b[39m\u001b[38;5;124m\"\u001b[39m\n\u001b[0;32m    914\u001b[0m \u001b[38;5;28;01mwith\u001b[39;00m OptionalXlaContext(\u001b[38;5;28mself\u001b[39m\u001b[38;5;241m.\u001b[39m_jit_compile):\n\u001b[1;32m--> 915\u001b[0m   result \u001b[38;5;241m=\u001b[39m \u001b[38;5;28;43mself\u001b[39;49m\u001b[38;5;241;43m.\u001b[39;49m\u001b[43m_call\u001b[49m\u001b[43m(\u001b[49m\u001b[38;5;241;43m*\u001b[39;49m\u001b[43margs\u001b[49m\u001b[43m,\u001b[49m\u001b[43m \u001b[49m\u001b[38;5;241;43m*\u001b[39;49m\u001b[38;5;241;43m*\u001b[39;49m\u001b[43mkwds\u001b[49m\u001b[43m)\u001b[49m\n\u001b[0;32m    917\u001b[0m new_tracing_count \u001b[38;5;241m=\u001b[39m \u001b[38;5;28mself\u001b[39m\u001b[38;5;241m.\u001b[39mexperimental_get_tracing_count()\n\u001b[0;32m    918\u001b[0m without_tracing \u001b[38;5;241m=\u001b[39m (tracing_count \u001b[38;5;241m==\u001b[39m new_tracing_count)\n",
      "File \u001b[1;32m~\\anaconda3\\envs\\tensor\\lib\\site-packages\\tensorflow\\python\\eager\\def_function.py:954\u001b[0m, in \u001b[0;36mFunction._call\u001b[1;34m(self, *args, **kwds)\u001b[0m\n\u001b[0;32m    951\u001b[0m \u001b[38;5;28mself\u001b[39m\u001b[38;5;241m.\u001b[39m_lock\u001b[38;5;241m.\u001b[39mrelease()\n\u001b[0;32m    952\u001b[0m \u001b[38;5;66;03m# In this case we have not created variables on the first call. So we can\u001b[39;00m\n\u001b[0;32m    953\u001b[0m \u001b[38;5;66;03m# run the first trace but we should fail if variables are created.\u001b[39;00m\n\u001b[1;32m--> 954\u001b[0m results \u001b[38;5;241m=\u001b[39m \u001b[38;5;28;43mself\u001b[39;49m\u001b[38;5;241;43m.\u001b[39;49m\u001b[43m_stateful_fn\u001b[49m\u001b[43m(\u001b[49m\u001b[38;5;241;43m*\u001b[39;49m\u001b[43margs\u001b[49m\u001b[43m,\u001b[49m\u001b[43m \u001b[49m\u001b[38;5;241;43m*\u001b[39;49m\u001b[38;5;241;43m*\u001b[39;49m\u001b[43mkwds\u001b[49m\u001b[43m)\u001b[49m\n\u001b[0;32m    955\u001b[0m \u001b[38;5;28;01mif\u001b[39;00m \u001b[38;5;28mself\u001b[39m\u001b[38;5;241m.\u001b[39m_created_variables \u001b[38;5;129;01mand\u001b[39;00m \u001b[38;5;129;01mnot\u001b[39;00m ALLOW_DYNAMIC_VARIABLE_CREATION:\n\u001b[0;32m    956\u001b[0m   \u001b[38;5;28;01mraise\u001b[39;00m \u001b[38;5;167;01mValueError\u001b[39;00m(\u001b[38;5;124m\"\u001b[39m\u001b[38;5;124mCreating variables on a non-first call to a function\u001b[39m\u001b[38;5;124m\"\u001b[39m\n\u001b[0;32m    957\u001b[0m                    \u001b[38;5;124m\"\u001b[39m\u001b[38;5;124m decorated with tf.function.\u001b[39m\u001b[38;5;124m\"\u001b[39m)\n",
      "File \u001b[1;32m~\\anaconda3\\envs\\tensor\\lib\\site-packages\\tensorflow\\python\\eager\\function.py:2496\u001b[0m, in \u001b[0;36mFunction.__call__\u001b[1;34m(self, *args, **kwargs)\u001b[0m\n\u001b[0;32m   2493\u001b[0m \u001b[38;5;28;01mwith\u001b[39;00m \u001b[38;5;28mself\u001b[39m\u001b[38;5;241m.\u001b[39m_lock:\n\u001b[0;32m   2494\u001b[0m   (graph_function,\n\u001b[0;32m   2495\u001b[0m    filtered_flat_args) \u001b[38;5;241m=\u001b[39m \u001b[38;5;28mself\u001b[39m\u001b[38;5;241m.\u001b[39m_maybe_define_function(args, kwargs)\n\u001b[1;32m-> 2496\u001b[0m \u001b[38;5;28;01mreturn\u001b[39;00m \u001b[43mgraph_function\u001b[49m\u001b[38;5;241;43m.\u001b[39;49m\u001b[43m_call_flat\u001b[49m\u001b[43m(\u001b[49m\n\u001b[0;32m   2497\u001b[0m \u001b[43m    \u001b[49m\u001b[43mfiltered_flat_args\u001b[49m\u001b[43m,\u001b[49m\u001b[43m \u001b[49m\u001b[43mcaptured_inputs\u001b[49m\u001b[38;5;241;43m=\u001b[39;49m\u001b[43mgraph_function\u001b[49m\u001b[38;5;241;43m.\u001b[39;49m\u001b[43mcaptured_inputs\u001b[49m\u001b[43m)\u001b[49m\n",
      "File \u001b[1;32m~\\anaconda3\\envs\\tensor\\lib\\site-packages\\tensorflow\\python\\eager\\function.py:1862\u001b[0m, in \u001b[0;36mConcreteFunction._call_flat\u001b[1;34m(self, args, captured_inputs, cancellation_manager)\u001b[0m\n\u001b[0;32m   1858\u001b[0m possible_gradient_type \u001b[38;5;241m=\u001b[39m gradients_util\u001b[38;5;241m.\u001b[39mPossibleTapeGradientTypes(args)\n\u001b[0;32m   1859\u001b[0m \u001b[38;5;28;01mif\u001b[39;00m (possible_gradient_type \u001b[38;5;241m==\u001b[39m gradients_util\u001b[38;5;241m.\u001b[39mPOSSIBLE_GRADIENT_TYPES_NONE\n\u001b[0;32m   1860\u001b[0m     \u001b[38;5;129;01mand\u001b[39;00m executing_eagerly):\n\u001b[0;32m   1861\u001b[0m   \u001b[38;5;66;03m# No tape is watching; skip to running the function.\u001b[39;00m\n\u001b[1;32m-> 1862\u001b[0m   \u001b[38;5;28;01mreturn\u001b[39;00m \u001b[38;5;28mself\u001b[39m\u001b[38;5;241m.\u001b[39m_build_call_outputs(\u001b[38;5;28;43mself\u001b[39;49m\u001b[38;5;241;43m.\u001b[39;49m\u001b[43m_inference_function\u001b[49m\u001b[38;5;241;43m.\u001b[39;49m\u001b[43mcall\u001b[49m\u001b[43m(\u001b[49m\n\u001b[0;32m   1863\u001b[0m \u001b[43m      \u001b[49m\u001b[43mctx\u001b[49m\u001b[43m,\u001b[49m\u001b[43m \u001b[49m\u001b[43margs\u001b[49m\u001b[43m,\u001b[49m\u001b[43m \u001b[49m\u001b[43mcancellation_manager\u001b[49m\u001b[38;5;241;43m=\u001b[39;49m\u001b[43mcancellation_manager\u001b[49m\u001b[43m)\u001b[49m)\n\u001b[0;32m   1864\u001b[0m forward_backward \u001b[38;5;241m=\u001b[39m \u001b[38;5;28mself\u001b[39m\u001b[38;5;241m.\u001b[39m_select_forward_and_backward_functions(\n\u001b[0;32m   1865\u001b[0m     args,\n\u001b[0;32m   1866\u001b[0m     possible_gradient_type,\n\u001b[0;32m   1867\u001b[0m     executing_eagerly)\n\u001b[0;32m   1868\u001b[0m forward_function, args_with_tangents \u001b[38;5;241m=\u001b[39m forward_backward\u001b[38;5;241m.\u001b[39mforward()\n",
      "File \u001b[1;32m~\\anaconda3\\envs\\tensor\\lib\\site-packages\\tensorflow\\python\\eager\\function.py:499\u001b[0m, in \u001b[0;36m_EagerDefinedFunction.call\u001b[1;34m(self, ctx, args, cancellation_manager)\u001b[0m\n\u001b[0;32m    497\u001b[0m \u001b[38;5;28;01mwith\u001b[39;00m _InterpolateFunctionError(\u001b[38;5;28mself\u001b[39m):\n\u001b[0;32m    498\u001b[0m   \u001b[38;5;28;01mif\u001b[39;00m cancellation_manager \u001b[38;5;129;01mis\u001b[39;00m \u001b[38;5;28;01mNone\u001b[39;00m:\n\u001b[1;32m--> 499\u001b[0m     outputs \u001b[38;5;241m=\u001b[39m \u001b[43mexecute\u001b[49m\u001b[38;5;241;43m.\u001b[39;49m\u001b[43mexecute\u001b[49m\u001b[43m(\u001b[49m\n\u001b[0;32m    500\u001b[0m \u001b[43m        \u001b[49m\u001b[38;5;28;43mstr\u001b[39;49m\u001b[43m(\u001b[49m\u001b[38;5;28;43mself\u001b[39;49m\u001b[38;5;241;43m.\u001b[39;49m\u001b[43msignature\u001b[49m\u001b[38;5;241;43m.\u001b[39;49m\u001b[43mname\u001b[49m\u001b[43m)\u001b[49m\u001b[43m,\u001b[49m\n\u001b[0;32m    501\u001b[0m \u001b[43m        \u001b[49m\u001b[43mnum_outputs\u001b[49m\u001b[38;5;241;43m=\u001b[39;49m\u001b[38;5;28;43mself\u001b[39;49m\u001b[38;5;241;43m.\u001b[39;49m\u001b[43m_num_outputs\u001b[49m\u001b[43m,\u001b[49m\n\u001b[0;32m    502\u001b[0m \u001b[43m        \u001b[49m\u001b[43minputs\u001b[49m\u001b[38;5;241;43m=\u001b[39;49m\u001b[43margs\u001b[49m\u001b[43m,\u001b[49m\n\u001b[0;32m    503\u001b[0m \u001b[43m        \u001b[49m\u001b[43mattrs\u001b[49m\u001b[38;5;241;43m=\u001b[39;49m\u001b[43mattrs\u001b[49m\u001b[43m,\u001b[49m\n\u001b[0;32m    504\u001b[0m \u001b[43m        \u001b[49m\u001b[43mctx\u001b[49m\u001b[38;5;241;43m=\u001b[39;49m\u001b[43mctx\u001b[49m\u001b[43m)\u001b[49m\n\u001b[0;32m    505\u001b[0m   \u001b[38;5;28;01melse\u001b[39;00m:\n\u001b[0;32m    506\u001b[0m     outputs \u001b[38;5;241m=\u001b[39m execute\u001b[38;5;241m.\u001b[39mexecute_with_cancellation(\n\u001b[0;32m    507\u001b[0m         \u001b[38;5;28mstr\u001b[39m(\u001b[38;5;28mself\u001b[39m\u001b[38;5;241m.\u001b[39msignature\u001b[38;5;241m.\u001b[39mname),\n\u001b[0;32m    508\u001b[0m         num_outputs\u001b[38;5;241m=\u001b[39m\u001b[38;5;28mself\u001b[39m\u001b[38;5;241m.\u001b[39m_num_outputs,\n\u001b[1;32m   (...)\u001b[0m\n\u001b[0;32m    511\u001b[0m         ctx\u001b[38;5;241m=\u001b[39mctx,\n\u001b[0;32m    512\u001b[0m         cancellation_manager\u001b[38;5;241m=\u001b[39mcancellation_manager)\n",
      "File \u001b[1;32m~\\anaconda3\\envs\\tensor\\lib\\site-packages\\tensorflow\\python\\eager\\execute.py:54\u001b[0m, in \u001b[0;36mquick_execute\u001b[1;34m(op_name, num_outputs, inputs, attrs, ctx, name)\u001b[0m\n\u001b[0;32m     52\u001b[0m \u001b[38;5;28;01mtry\u001b[39;00m:\n\u001b[0;32m     53\u001b[0m   ctx\u001b[38;5;241m.\u001b[39mensure_initialized()\n\u001b[1;32m---> 54\u001b[0m   tensors \u001b[38;5;241m=\u001b[39m \u001b[43mpywrap_tfe\u001b[49m\u001b[38;5;241;43m.\u001b[39;49m\u001b[43mTFE_Py_Execute\u001b[49m\u001b[43m(\u001b[49m\u001b[43mctx\u001b[49m\u001b[38;5;241;43m.\u001b[39;49m\u001b[43m_handle\u001b[49m\u001b[43m,\u001b[49m\u001b[43m \u001b[49m\u001b[43mdevice_name\u001b[49m\u001b[43m,\u001b[49m\u001b[43m \u001b[49m\u001b[43mop_name\u001b[49m\u001b[43m,\u001b[49m\n\u001b[0;32m     55\u001b[0m \u001b[43m                                      \u001b[49m\u001b[43minputs\u001b[49m\u001b[43m,\u001b[49m\u001b[43m \u001b[49m\u001b[43mattrs\u001b[49m\u001b[43m,\u001b[49m\u001b[43m \u001b[49m\u001b[43mnum_outputs\u001b[49m\u001b[43m)\u001b[49m\n\u001b[0;32m     56\u001b[0m \u001b[38;5;28;01mexcept\u001b[39;00m core\u001b[38;5;241m.\u001b[39m_NotOkStatusException \u001b[38;5;28;01mas\u001b[39;00m e:\n\u001b[0;32m     57\u001b[0m   \u001b[38;5;28;01mif\u001b[39;00m name \u001b[38;5;129;01mis\u001b[39;00m \u001b[38;5;129;01mnot\u001b[39;00m \u001b[38;5;28;01mNone\u001b[39;00m:\n",
      "\u001b[1;31mKeyboardInterrupt\u001b[0m: "
     ]
    }
   ],
   "source": [
    "history = model.fit(train_gen, validation_data = valid_gen, steps_per_epoch = train_gen.samples//BATCH_SIZE, validation_steps = valid_gen.samples//BATCH_SIZE, epochs=EPOCHS, verbose=1)"
   ]
  },
  {
   "cell_type": "code",
   "execution_count": 23,
   "id": "5e77c663",
   "metadata": {},
   "outputs": [
    {
     "data": {
      "image/png": "[encoded data removed]",
      "text/plain": [
       "<Figure size 432x288 with 1 Axes>"
      ]
     },
     "metadata": {
      "needs_background": "light"
     },
     "output_type": "display_data"
    },
    {
     "data": {
      "image/png": "[encoded data removed]",
      "text/plain": [
       "<Figure size 432x288 with 1 Axes>"
      ]
     },
     "metadata": {
      "needs_background": "light"
     },
     "output_type": "display_data"
    }
   ],
   "source": [
    "import matplotlib.pyplot as plt\n",
    "\n",
    "def plot_loss_acc(history):\n",
    "    acc = history.history['accuracy']\n",
    "    val_acc = history.history['val_accuracy']\n",
    "    loss = history.history['loss']\n",
    "    val_loss = history.history['val_loss']\n",
    "\n",
    "    epochs = range(len(acc))\n",
    "\n",
    "    plt.plot(epochs, acc, 'bo', label='Training accuracy')\n",
    "    plt.plot(epochs, val_acc, 'b', label='Validation accuracy')\n",
    "    plt.title('Training and validation accuracy')\n",
    "    plt.legend()\n",
    "\n",
    "    plt.figure()\n",
    "\n",
    "    plt.plot(epochs, loss, 'bo', label='Training Loss')\n",
    "    plt.plot(epochs, val_loss, 'b', label='Validation Loss')\n",
    "    plt.title('Training and validation loss')\n",
    "    plt.legend()\n",
    "\n",
    "    plt.show()\n",
    "    \n",
    "plot_loss_acc(history)"
   ]
  },
  {
   "cell_type": "code",
   "execution_count": 67,
   "id": "f2e2adaf",
   "metadata": {},
   "outputs": [],
   "source": [
    "model.save('X1.h5')"
   ]
  },
  {
   "cell_type": "code",
   "execution_count": 37,
   "id": "480b7f25",
   "metadata": {},
   "outputs": [],
   "source": [
    "import matplotlib.pyplot as plt\n",
    "import matplotlib.image as mpimg\n",
    "from tensorflow.keras.preprocessing.image import load_img\n",
    "from tensorflow.keras.preprocessing.image import img_to_array\n",
    "from tensorflow.keras.models import load_model\n",
    "import cv2\n",
    "import numpy as np\n",
    "\n",
    "# img = load_image('C:/Users/pc/Downloads/images pot.jpg')\n",
    "\n",
    "# model = load_model('X1.h5')\n",
    "\n",
    "def predict(image_path, img_size):\n",
    "    # Load the image and preprocess it\n",
    "    image = cv2.imread(image_path)\n",
    "    image = cv2.resize(image, img_size)\n",
    "    image = image.astype(\"float\") / 255.0\n",
    "    image = np.expand_dims(image, axis=0)\n",
    "\n",
    "    # Make a prediction\n",
    "    predictions = model.predict(image)\n",
    "\n",
    "    # Get the predicted class label\n",
    "    predicted_label = lab[np.argmax(predictions)]\n",
    "\n",
    "    # Get the predicted class probability\n",
    "    predicted_prob = np.max(predictions)\n",
    "\n",
    "    # Return the predicted label and probability\n",
    "    return predicted_label, predicted_prob"
   ]
  },
  {
   "cell_type": "code",
   "execution_count": 38,
   "id": "3f08b54b",
   "metadata": {},
   "outputs": [
    {
     "name": "stdout",
     "output_type": "stream",
     "text": [
      "1/1 [==============================] - 0s 18ms/step\n"
     ]
    },
    {
     "data": {
      "text/plain": [
       "('Tomato_Late_blight', 0.7679476)"
      ]
     },
     "execution_count": 38,
     "metadata": {},
     "output_type": "execute_result"
    }
   ],
   "source": [
    "predict('C:/Users/pc/Downloads/images pot.jpg', (200, 200))"
   ]
  },
  {
   "cell_type": "code",
   "execution_count": null,
   "id": "88e4c287",
   "metadata": {},
   "outputs": [],
   "source": []
  },
  {
   "cell_type": "code",
   "execution_count": null,
   "id": "b0f596ca",
   "metadata": {},
   "outputs": [],
   "source": []
  }
 ],
 "metadata": {
  "kernelspec": {
   "display_name": "Python 3 (ipykernel)",
   "language": "python",
   "name": "python3"
  },
  "language_info": {
   "codemirror_mode": {
    "name": "ipython",
    "version": 3
   },
   "file_extension": ".py",
   "mimetype": "text/x-python",
   "name": "python",
   "nbconvert_exporter": "python",
   "pygments_lexer": "ipython3",
   "version": "3.8.11"
  }
 },
 "nbformat": 4,
 "nbformat_minor": 5
}

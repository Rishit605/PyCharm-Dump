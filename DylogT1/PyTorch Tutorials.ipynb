{
 "cells": [
  {
   "cell_type": "code",
   "execution_count": 42,
   "id": "c25b7f37",
   "metadata": {},
   "outputs": [],
   "source": [
    "if torch.cuda.is_available():  \n",
    "  dev = \"cuda:0\" \n",
    "else:  \n",
    "  dev = \"cpu\"  "
   ]
  },
  {
   "cell_type": "code",
   "execution_count": 1,
   "id": "8555c47a",
   "metadata": {},
   "outputs": [],
   "source": [
    "import torch"
   ]
  },
  {
   "cell_type": "code",
   "execution_count": 26,
   "id": "82440341",
   "metadata": {},
   "outputs": [],
   "source": [
    "x = torch.rand(1, 3)\n",
    "y = torch.rand(5, 3)"
   ]
  },
  {
   "cell_type": "code",
   "execution_count": 29,
   "id": "952c2d37",
   "metadata": {},
   "outputs": [
    {
     "data": {
      "text/plain": [
       "tensor([[1.4356, 0.4628, 0.5993],\n",
       "        [2.0171, 0.1217, 0.6163],\n",
       "        [0.9590, 0.0727, 1.2180],\n",
       "        [1.3957, 0.0524, 3.7352],\n",
       "        [2.0483, 0.0604, 1.2842]])"
      ]
     },
     "execution_count": 29,
     "metadata": {},
     "output_type": "execute_result"
    }
   ],
   "source": [
    "z = torch.div(x,y)\n",
    "z"
   ]
  },
  {
   "cell_type": "code",
   "execution_count": 32,
   "id": "8e92ba1f",
   "metadata": {},
   "outputs": [
    {
     "data": {
      "text/plain": [
       "tensor([[1.4356, 0.4628, 0.5993],\n",
       "        [2.0171, 0.1217, 0.6163],\n",
       "        [0.9590, 0.0727, 1.2180],\n",
       "        [1.3957, 0.0524, 3.7352],\n",
       "        [2.0483, 0.0604, 1.2842]])"
      ]
     },
     "execution_count": 32,
     "metadata": {},
     "output_type": "execute_result"
    }
   ],
   "source": [
    "if torch.cuda.is_available():\n",
    "    dev = torch.device(\"cuda\")\n",
    "    z = z.to(dev)\n",
    "z"
   ]
  },
  {
   "cell_type": "markdown",
   "id": "c3ab735b",
   "metadata": {},
   "source": [
    "# Calculatin Gradients in PyTorch"
   ]
  },
  {
   "cell_type": "code",
   "execution_count": 33,
   "id": "5b75fa51",
   "metadata": {},
   "outputs": [
    {
     "data": {
      "text/plain": [
       "tensor([-0.1274,  1.1277, -0.2668], requires_grad=True)"
      ]
     },
     "execution_count": 33,
     "metadata": {},
     "output_type": "execute_result"
    }
   ],
   "source": [
    "x = torch.randn(3, requires_grad=True)\n",
    "x"
   ]
  },
  {
   "cell_type": "code",
   "execution_count": 34,
   "id": "04df1c65",
   "metadata": {},
   "outputs": [
    {
     "data": {
      "text/plain": [
       "tensor([2.8726, 4.1277, 2.7332], grad_fn=<AddBackward0>)"
      ]
     },
     "execution_count": 34,
     "metadata": {},
     "output_type": "execute_result"
    }
   ],
   "source": [
    "p = x+3\n",
    "p"
   ]
  },
  {
   "cell_type": "markdown",
   "id": "5ce8565e",
   "metadata": {},
   "source": [
    "# Gradient Descent"
   ]
  },
  {
   "cell_type": "code",
   "execution_count": 87,
   "id": "a9837ba3",
   "metadata": {},
   "outputs": [],
   "source": [
    "import numpy as np\n",
    "\n",
    "X = np.arange(0, 5, dtype=np.float16)\n",
    "Y = np.arange(0, 10, 2, dtype=np.float16)"
   ]
  },
  {
   "cell_type": "code",
   "execution_count": 88,
   "id": "dbaa3f91",
   "metadata": {},
   "outputs": [],
   "source": [
    "w = 0.0"
   ]
  },
  {
   "cell_type": "code",
   "execution_count": 89,
   "id": "be965499",
   "metadata": {},
   "outputs": [],
   "source": [
    "def forward(x):\n",
    "    return w*x"
   ]
  },
  {
   "cell_type": "code",
   "execution_count": 90,
   "id": "66c50ce6",
   "metadata": {},
   "outputs": [],
   "source": [
    "def loss(y, y_pred):\n",
    "    return ((y_pred-y)**2).mean()"
   ]
  },
  {
   "cell_type": "code",
   "execution_count": 91,
   "id": "4a679bb6",
   "metadata": {},
   "outputs": [],
   "source": [
    "def grd(x,y, y_pred):\n",
    "    return np.dot(2*x, y_pred-y).mean()"
   ]
  },
  {
   "cell_type": "code",
   "execution_count": 92,
   "id": "ebb2eb31",
   "metadata": {},
   "outputs": [
    {
     "name": "stdout",
     "output_type": "stream",
     "text": [
      "0.0\n"
     ]
    }
   ],
   "source": [
    "print(forward(5))"
   ]
  },
  {
   "cell_type": "code",
   "execution_count": 93,
   "id": "7845769f",
   "metadata": {},
   "outputs": [],
   "source": [
    "lr = 1e-2\n",
    "n_itr = 10"
   ]
  },
  {
   "cell_type": "code",
   "execution_count": 94,
   "id": "79550ff9",
   "metadata": {},
   "outputs": [
    {
     "name": "stdout",
     "output_type": "stream",
     "text": [
      "1 1.2 24.0\n",
      "2 1.6796875 3.838\n",
      "3 1.871875 0.6157\n",
      "4 1.94859375 0.0981\n",
      "5 1.9797070312499998 0.01613\n",
      "6 1.9920703124999999 0.002548\n",
      "7 1.9967578124999998 0.0003662\n",
      "8 1.9984570312499998 4.83e-05\n",
      "9 1.9997460937499998 2.825e-05\n",
      "10 1.9997460937499998 0.0\n"
     ]
    }
   ],
   "source": [
    "for epoch in range(n_itr):\n",
    "    y_preds = forward(X)\n",
    "    \n",
    "    l = loss(Y, y_preds)\n",
    "    \n",
    "    dw = grd(X,Y, y_preds)\n",
    "    \n",
    "    w -= lr * dw\n",
    "    \n",
    "    if epoch % 1 == 0:\n",
    "        print(epoch+1, w, l)"
   ]
  },
  {
   "cell_type": "markdown",
   "id": "54fa135b",
   "metadata": {},
   "source": [
    "# Using Torch"
   ]
  },
  {
   "cell_type": "code",
   "execution_count": 106,
   "id": "ad88f97a",
   "metadata": {},
   "outputs": [],
   "source": [
    "X = torch.tensor([0, 1, 2, 3, 4, 5], dtype=torch.float32)\n",
    "Y = torch.tensor([0, 2, 4, 6, 8, 10], dtype=torch.float32)"
   ]
  },
  {
   "cell_type": "code",
   "execution_count": 107,
   "id": "acce5cb1",
   "metadata": {},
   "outputs": [],
   "source": [
    "w = torch.tensor(0.0, dtype=torch.float32, requires_grad=True)"
   ]
  },
  {
   "cell_type": "code",
   "execution_count": 114,
   "id": "8ae618c2",
   "metadata": {},
   "outputs": [],
   "source": [
    "lr = 1e-3\n",
    "n_itr = 500"
   ]
  },
  {
   "cell_type": "code",
   "execution_count": 115,
   "id": "cbd4e269",
   "metadata": {},
   "outputs": [
    {
     "name": "stdout",
     "output_type": "stream",
     "text": [
      "1 tensor(1.9840, requires_grad=True) tensor(0.0024, grad_fn=<MeanBackward0>)\n",
      "11 tensor(1.9867, requires_grad=True) tensor(0.0017, grad_fn=<MeanBackward0>)\n",
      "21 tensor(1.9890, requires_grad=True) tensor(0.0012, grad_fn=<MeanBackward0>)\n",
      "31 tensor(1.9908, requires_grad=True) tensor(0.0008, grad_fn=<MeanBackward0>)\n",
      "41 tensor(1.9924, requires_grad=True) tensor(0.0006, grad_fn=<MeanBackward0>)\n",
      "51 tensor(1.9937, requires_grad=True) tensor(0.0004, grad_fn=<MeanBackward0>)\n",
      "61 tensor(1.9947, requires_grad=True) tensor(0.0003, grad_fn=<MeanBackward0>)\n",
      "71 tensor(1.9956, requires_grad=True) tensor(0.0002, grad_fn=<MeanBackward0>)\n",
      "81 tensor(1.9964, requires_grad=True) tensor(0.0001, grad_fn=<MeanBackward0>)\n",
      "91 tensor(1.9970, requires_grad=True) tensor(8.6926e-05, grad_fn=<MeanBackward0>)\n",
      "101 tensor(1.9975, requires_grad=True) tensor(6.0038e-05, grad_fn=<MeanBackward0>)\n",
      "111 tensor(1.9979, requires_grad=True) tensor(4.1468e-05, grad_fn=<MeanBackward0>)\n",
      "121 tensor(1.9983, requires_grad=True) tensor(2.8645e-05, grad_fn=<MeanBackward0>)\n",
      "131 tensor(1.9986, requires_grad=True) tensor(1.9788e-05, grad_fn=<MeanBackward0>)\n",
      "141 tensor(1.9988, requires_grad=True) tensor(1.3667e-05, grad_fn=<MeanBackward0>)\n",
      "151 tensor(1.9990, requires_grad=True) tensor(9.4413e-06, grad_fn=<MeanBackward0>)\n",
      "161 tensor(1.9992, requires_grad=True) tensor(6.5206e-06, grad_fn=<MeanBackward0>)\n",
      "171 tensor(1.9993, requires_grad=True) tensor(4.5039e-06, grad_fn=<MeanBackward0>)\n",
      "181 tensor(1.9994, requires_grad=True) tensor(3.1107e-06, grad_fn=<MeanBackward0>)\n",
      "191 tensor(1.9995, requires_grad=True) tensor(2.1483e-06, grad_fn=<MeanBackward0>)\n",
      "201 tensor(1.9996, requires_grad=True) tensor(1.4847e-06, grad_fn=<MeanBackward0>)\n",
      "211 tensor(1.9997, requires_grad=True) tensor(1.0262e-06, grad_fn=<MeanBackward0>)\n",
      "221 tensor(1.9997, requires_grad=True) tensor(7.0864e-07, grad_fn=<MeanBackward0>)\n",
      "231 tensor(1.9998, requires_grad=True) tensor(4.8922e-07, grad_fn=<MeanBackward0>)\n",
      "241 tensor(1.9998, requires_grad=True) tensor(3.3763e-07, grad_fn=<MeanBackward0>)\n",
      "251 tensor(1.9998, requires_grad=True) tensor(2.3357e-07, grad_fn=<MeanBackward0>)\n",
      "261 tensor(1.9999, requires_grad=True) tensor(1.6108e-07, grad_fn=<MeanBackward0>)\n",
      "271 tensor(1.9999, requires_grad=True) tensor(1.1131e-07, grad_fn=<MeanBackward0>)\n",
      "281 tensor(1.9999, requires_grad=True) tensor(7.6834e-08, grad_fn=<MeanBackward0>)\n",
      "291 tensor(1.9999, requires_grad=True) tensor(5.3036e-08, grad_fn=<MeanBackward0>)\n",
      "301 tensor(1.9999, requires_grad=True) tensor(3.6735e-08, grad_fn=<MeanBackward0>)\n",
      "311 tensor(1.9999, requires_grad=True) tensor(2.5372e-08, grad_fn=<MeanBackward0>)\n",
      "321 tensor(2.0000, requires_grad=True) tensor(1.7457e-08, grad_fn=<MeanBackward0>)\n",
      "331 tensor(2.0000, requires_grad=True) tensor(1.2039e-08, grad_fn=<MeanBackward0>)\n",
      "341 tensor(2.0000, requires_grad=True) tensor(8.3358e-09, grad_fn=<MeanBackward0>)\n",
      "351 tensor(2.0000, requires_grad=True) tensor(5.8016e-09, grad_fn=<MeanBackward0>)\n",
      "361 tensor(2.0000, requires_grad=True) tensor(4.0351e-09, grad_fn=<MeanBackward0>)\n",
      "371 tensor(2.0000, requires_grad=True) tensor(2.7740e-09, grad_fn=<MeanBackward0>)\n",
      "381 tensor(2.0000, requires_grad=True) tensor(1.9366e-09, grad_fn=<MeanBackward0>)\n",
      "391 tensor(2.0000, requires_grad=True) tensor(1.3572e-09, grad_fn=<MeanBackward0>)\n",
      "401 tensor(2.0000, requires_grad=True) tensor(8.7437e-10, grad_fn=<MeanBackward0>)\n",
      "411 tensor(2.0000, requires_grad=True) tensor(6.5064e-10, grad_fn=<MeanBackward0>)\n",
      "421 tensor(2.0000, requires_grad=True) tensor(4.8415e-10, grad_fn=<MeanBackward0>)\n",
      "431 tensor(2.0000, requires_grad=True) tensor(3.3931e-10, grad_fn=<MeanBackward0>)\n",
      "441 tensor(2.0000, requires_grad=True) tensor(2.2250e-10, grad_fn=<MeanBackward0>)\n",
      "451 tensor(2.0000, requires_grad=True) tensor(1.2257e-10, grad_fn=<MeanBackward0>)\n",
      "461 tensor(2.0000, requires_grad=True) tensor(9.5225e-11, grad_fn=<MeanBackward0>)\n",
      "471 tensor(2.0000, requires_grad=True) tensor(9.5225e-11, grad_fn=<MeanBackward0>)\n",
      "481 tensor(2.0000, requires_grad=True) tensor(9.5225e-11, grad_fn=<MeanBackward0>)\n",
      "491 tensor(2.0000, requires_grad=True) tensor(9.5225e-11, grad_fn=<MeanBackward0>)\n"
     ]
    }
   ],
   "source": [
    "for epoch in range(n_itr):\n",
    "    y_preds = forward(X)\n",
    "    \n",
    "    l = loss(Y, y_preds)\n",
    "    \n",
    "    l.backward()\n",
    "    with torch.no_grad():\n",
    "        w -= lr * w.grad\n",
    "    \n",
    "    w.grad.zero_()\n",
    "    if epoch % 10 == 0:\n",
    "        print(epoch+1, w, l)"
   ]
  },
  {
   "cell_type": "markdown",
   "id": "8c69ac17",
   "metadata": {},
   "source": [
    "# Implimenting Piplines"
   ]
  },
  {
   "cell_type": "code",
   "execution_count": 133,
   "id": "b049cdaa",
   "metadata": {},
   "outputs": [],
   "source": [
    "import torch.nn as nn"
   ]
  },
  {
   "cell_type": "code",
   "execution_count": 129,
   "id": "7c74b6d7",
   "metadata": {},
   "outputs": [],
   "source": [
    "X = torch.tensor([1, 2, 3, 4, 5, 6], dtype=torch.float32)\n",
    "Y = torch.tensor([0, 2, 4, 6, 8, 10], dtype=torch.float32)"
   ]
  },
  {
   "cell_type": "code",
   "execution_count": 130,
   "id": "dfa83547",
   "metadata": {},
   "outputs": [],
   "source": [
    "w = torch.tensor(0.0, dtype=torch.float32, requires_grad=True)"
   ]
  },
  {
   "cell_type": "code",
   "execution_count": 131,
   "id": "97b69236",
   "metadata": {},
   "outputs": [],
   "source": [
    "l_r = 1e-2\n",
    "n_itr = 20\n",
    "\n",
    "l = torch.nn.MSELoss()\n",
    "optimizer = torch.optim.SGD([w], lr = l_r)"
   ]
  },
  {
   "cell_type": "code",
   "execution_count": 132,
   "id": "7b24b68c",
   "metadata": {},
   "outputs": [
    {
     "name": "stdout",
     "output_type": "stream",
     "text": [
      "1 tensor(0.4667, requires_grad=True) tensor(36.6667, grad_fn=<MeanBackward0>)\n",
      "2 tensor(0.7918, requires_grad=True) tensor(18.1919, grad_fn=<MeanBackward0>)\n",
      "3 tensor(1.0183, requires_grad=True) tensor(9.2252, grad_fn=<MeanBackward0>)\n",
      "4 tensor(1.1761, requires_grad=True) tensor(4.8733, grad_fn=<MeanBackward0>)\n",
      "5 tensor(1.2860, requires_grad=True) tensor(2.7611, grad_fn=<MeanBackward0>)\n",
      "6 tensor(1.3626, requires_grad=True) tensor(1.7360, grad_fn=<MeanBackward0>)\n",
      "7 tensor(1.4159, requires_grad=True) tensor(1.2384, grad_fn=<MeanBackward0>)\n",
      "8 tensor(1.4531, requires_grad=True) tensor(0.9970, grad_fn=<MeanBackward0>)\n",
      "9 tensor(1.4790, requires_grad=True) tensor(0.8798, grad_fn=<MeanBackward0>)\n",
      "10 tensor(1.4970, requires_grad=True) tensor(0.8229, grad_fn=<MeanBackward0>)\n",
      "11 tensor(1.5096, requires_grad=True) tensor(0.7953, grad_fn=<MeanBackward0>)\n",
      "12 tensor(1.5184, requires_grad=True) tensor(0.7819, grad_fn=<MeanBackward0>)\n",
      "13 tensor(1.5245, requires_grad=True) tensor(0.7754, grad_fn=<MeanBackward0>)\n",
      "14 tensor(1.5287, requires_grad=True) tensor(0.7722, grad_fn=<MeanBackward0>)\n",
      "15 tensor(1.5317, requires_grad=True) tensor(0.7707, grad_fn=<MeanBackward0>)\n",
      "16 tensor(1.5337, requires_grad=True) tensor(0.7699, grad_fn=<MeanBackward0>)\n",
      "17 tensor(1.5352, requires_grad=True) tensor(0.7696, grad_fn=<MeanBackward0>)\n",
      "18 tensor(1.5362, requires_grad=True) tensor(0.7694, grad_fn=<MeanBackward0>)\n",
      "19 tensor(1.5369, requires_grad=True) tensor(0.7693, grad_fn=<MeanBackward0>)\n",
      "20 tensor(1.5373, requires_grad=True) tensor(0.7693, grad_fn=<MeanBackward0>)\n"
     ]
    }
   ],
   "source": [
    "for epoch in range(n_itr):\n",
    "    y_preds = forward(X)\n",
    "    \n",
    "    l = loss(Y, y_preds)\n",
    "    \n",
    "    l.backward()\n",
    "    \n",
    "    optimizer.step()\n",
    "    \n",
    "    optimizer.zero_grad()\n",
    "    \n",
    "    w.grad.zero_()\n",
    "    if epoch % 1 == 0:\n",
    "        print(epoch+1, w, l)"
   ]
  },
  {
   "cell_type": "markdown",
   "id": "5a5db8a2",
   "metadata": {},
   "source": [
    "# Linear Regression Using Torch"
   ]
  },
  {
   "cell_type": "code",
   "execution_count": 135,
   "id": "06a63d47",
   "metadata": {},
   "outputs": [],
   "source": [
    "from sklearn import datasets\n",
    "import matplotlib.pyplot as plt"
   ]
  },
  {
   "cell_type": "code",
   "execution_count": 136,
   "id": "57900ced",
   "metadata": {},
   "outputs": [],
   "source": [
    "X_n, y_n = datasets.make_regression(n_samples=100, n_features=1, noise=20, random_state=2)"
   ]
  },
  {
   "cell_type": "code",
   "execution_count": 142,
   "id": "7fe2f84e",
   "metadata": {},
   "outputs": [],
   "source": [
    "X = torch.from_numpy(X_n.astype(np.float32))\n",
    "y = torch.from_numpy(y_n.astype(np.float32))\n",
    "y = y.view(y.shape[0], 1) # .view is a built in Torch function used for reshaping the Tensor"
   ]
  },
  {
   "cell_type": "code",
   "execution_count": 143,
   "id": "e3e531ac",
   "metadata": {},
   "outputs": [],
   "source": [
    "n_samp, n_feat = X.shape"
   ]
  },
  {
   "cell_type": "code",
   "execution_count": 170,
   "id": "44f60683",
   "metadata": {},
   "outputs": [],
   "source": [
    "l_r = 1e-2\n",
    "n_itr = 200"
   ]
  },
  {
   "cell_type": "code",
   "execution_count": 171,
   "id": "87fd5ff0",
   "metadata": {},
   "outputs": [],
   "source": [
    "# Model\n",
    "\n",
    "model = nn.Linear(n_feat, 1)"
   ]
  },
  {
   "cell_type": "code",
   "execution_count": 172,
   "id": "cc6d9475",
   "metadata": {},
   "outputs": [],
   "source": [
    "# Loss & OPtimizers\n",
    "\n",
    "crit = nn.MSELoss()\n",
    "opt = torch.optim.SGD(model.parameters(), lr=l_r)"
   ]
  },
  {
   "cell_type": "code",
   "execution_count": 173,
   "id": "93ccb374",
   "metadata": {},
   "outputs": [
    {
     "name": "stdout",
     "output_type": "stream",
     "text": [
      "10 2815.481201171875\n",
      "20 1938.275146484375\n",
      "30 1374.9259033203125\n",
      "40 1012.5250244140625\n",
      "50 778.9820556640625\n",
      "60 628.2049560546875\n",
      "70 530.6785278320312\n",
      "80 467.4737854003906\n",
      "90 426.4307861328125\n",
      "100 399.7250061035156\n",
      "110 382.31231689453125\n",
      "120 370.9351501464844\n",
      "130 363.4859619140625\n",
      "140 358.5983581542969\n",
      "150 355.3846740722656\n",
      "160 353.2672119140625\n",
      "170 351.869140625\n",
      "180 350.9441833496094\n",
      "190 350.3309631347656\n",
      "200 349.92364501953125\n"
     ]
    }
   ],
   "source": [
    "for epoch in range(n_itr):\n",
    "    y_pred = model(X)\n",
    "    loss = crit(y_pred, y)\n",
    "    \n",
    "    loss.backward()\n",
    "    \n",
    "    opt.step()\n",
    "    \n",
    "    opt.zero_grad()\n",
    "    \n",
    "    if (epoch+1) % 10 == 0:\n",
    "        print(epoch+1, loss.item())"
   ]
  },
  {
   "cell_type": "code",
   "execution_count": 174,
   "id": "d4ea1615",
   "metadata": {},
   "outputs": [
    {
     "data": {
      "image/png": "[encoded data removed]",
      "text/plain": [
       "<Figure size 432x288 with 1 Axes>"
      ]
     },
     "metadata": {
      "needs_background": "light"
     },
     "output_type": "display_data"
    }
   ],
   "source": [
    "p = model(X).detach().numpy()\n",
    "plt.plot(X_n, y_n, 'ro')\n",
    "plt.plot(X_n, p, 'b')\n",
    "plt.show()"
   ]
  },
  {
   "cell_type": "markdown",
   "id": "ed4a1dce",
   "metadata": {},
   "source": [
    "# Testing"
   ]
  },
  {
   "cell_type": "code",
   "execution_count": 6,
   "id": "3799aebb",
   "metadata": {},
   "outputs": [],
   "source": [
    "import matplotlib.pyplot as plt\n",
    "import numpy as np\n",
    "\n",
    "import torch\n",
    "import torchvision\n",
    "import torchvision.transforms as transforms\n",
    "\n",
    "import torch.nn as nn\n",
    "import torch.nn.functional as F\n",
    "import torch.optim as optim"
   ]
  },
  {
   "cell_type": "code",
   "execution_count": 45,
   "id": "f3d1c212",
   "metadata": {},
   "outputs": [
    {
     "name": "stdout",
     "output_type": "stream",
     "text": [
      "Using cpu device\n"
     ]
    }
   ],
   "source": [
    "device = \"cuda\" if torch.cuda.is_available() else \"cpu\"\n",
    "print(f\"Using {device} device\")"
   ]
  },
  {
   "cell_type": "code",
   "execution_count": 44,
   "id": "930f5a9b",
   "metadata": {},
   "outputs": [],
   "source": [
    "transform = transforms.Compose(\n",
    "    [transforms.ToTensor(),\n",
    "    transforms.Normalize((0.5,), (0.5,))]\n",
    ")"
   ]
  },
  {
   "cell_type": "code",
   "execution_count": 9,
   "id": "37d49d2b",
   "metadata": {},
   "outputs": [
    {
     "name": "stdout",
     "output_type": "stream",
     "text": [
      "Downloading http://fashion-mnist.s3-website.eu-central-1.amazonaws.com/train-images-idx3-ubyte.gz\n",
      "Downloading http://fashion-mnist.s3-website.eu-central-1.amazonaws.com/train-images-idx3-ubyte.gz to /dataset/FashionMNIST\\raw\\train-images-idx3-ubyte.gz\n"
     ]
    },
    {
     "data": {
      "application/vnd.jupyter.widget-view+json": {
       "model_id": "d37adee427294b0bafe213f4ba09aee0",
       "version_major": 2,
       "version_minor": 0
      },
      "text/plain": [
       "  0%|          | 0/26421880 [00:00<?, ?it/s]"
      ]
     },
     "metadata": {},
     "output_type": "display_data"
    },
    {
     "name": "stdout",
     "output_type": "stream",
     "text": [
      "Extracting /dataset/FashionMNIST\\raw\\train-images-idx3-ubyte.gz to /dataset/FashionMNIST\\raw\n",
      "\n",
      "Downloading http://fashion-mnist.s3-website.eu-central-1.amazonaws.com/train-labels-idx1-ubyte.gz\n",
      "Downloading http://fashion-mnist.s3-website.eu-central-1.amazonaws.com/train-labels-idx1-ubyte.gz to /dataset/FashionMNIST\\raw\\train-labels-idx1-ubyte.gz\n"
     ]
    },
    {
     "data": {
      "application/vnd.jupyter.widget-view+json": {
       "model_id": "74bb64cfb73c4b5c9a0e9cebb56b869d",
       "version_major": 2,
       "version_minor": 0
      },
      "text/plain": [
       "  0%|          | 0/29515 [00:00<?, ?it/s]"
      ]
     },
     "metadata": {},
     "output_type": "display_data"
    },
    {
     "name": "stdout",
     "output_type": "stream",
     "text": [
      "Extracting /dataset/FashionMNIST\\raw\\train-labels-idx1-ubyte.gz to /dataset/FashionMNIST\\raw\n",
      "\n",
      "Downloading http://fashion-mnist.s3-website.eu-central-1.amazonaws.com/t10k-images-idx3-ubyte.gz\n",
      "Downloading http://fashion-mnist.s3-website.eu-central-1.amazonaws.com/t10k-images-idx3-ubyte.gz to /dataset/FashionMNIST\\raw\\t10k-images-idx3-ubyte.gz\n"
     ]
    },
    {
     "data": {
      "application/vnd.jupyter.widget-view+json": {
       "model_id": "94282aa17bf04481991c73df092362f4",
       "version_major": 2,
       "version_minor": 0
      },
      "text/plain": [
       "  0%|          | 0/4422102 [00:00<?, ?it/s]"
      ]
     },
     "metadata": {},
     "output_type": "display_data"
    },
    {
     "name": "stdout",
     "output_type": "stream",
     "text": [
      "Extracting /dataset/FashionMNIST\\raw\\t10k-images-idx3-ubyte.gz to /dataset/FashionMNIST\\raw\n",
      "\n",
      "Downloading http://fashion-mnist.s3-website.eu-central-1.amazonaws.com/t10k-labels-idx1-ubyte.gz\n",
      "Downloading http://fashion-mnist.s3-website.eu-central-1.amazonaws.com/t10k-labels-idx1-ubyte.gz to /dataset/FashionMNIST\\raw\\t10k-labels-idx1-ubyte.gz\n"
     ]
    },
    {
     "data": {
      "application/vnd.jupyter.widget-view+json": {
       "model_id": "a6c7ca7a3f694932b24844da7bff59ce",
       "version_major": 2,
       "version_minor": 0
      },
      "text/plain": [
       "  0%|          | 0/5148 [00:00<?, ?it/s]"
      ]
     },
     "metadata": {},
     "output_type": "display_data"
    },
    {
     "name": "stdout",
     "output_type": "stream",
     "text": [
      "Extracting /dataset/FashionMNIST\\raw\\t10k-labels-idx1-ubyte.gz to /dataset/FashionMNIST\\raw\n",
      "\n"
     ]
    }
   ],
   "source": [
    "# datasets\n",
    "trainset = torchvision.datasets.FashionMNIST('/dataset/',\n",
    "    download=True,\n",
    "    train=True,\n",
    "    transform=transform)\n",
    "testset = torchvision.datasets.FashionMNIST('/dataset/',\n",
    "    download=True,\n",
    "    train=False,\n",
    "    transform=transform)"
   ]
  },
  {
   "cell_type": "code",
   "execution_count": 11,
   "id": "c687a2d1",
   "metadata": {},
   "outputs": [],
   "source": [
    "train_load = torch.utils.data.DataLoader(trainset, batch_size=4, shuffle=True, num_workers=2)\n",
    "test_load = torch.utils.data.DataLoader(testset, batch_size=4, shuffle=True, num_workers=2)"
   ]
  },
  {
   "cell_type": "code",
   "execution_count": 12,
   "id": "a151ba81",
   "metadata": {},
   "outputs": [],
   "source": [
    "# constant for classes\n",
    "classes = ('T-shirt/top', 'Trouser', 'Pullover', 'Dress', 'Coat',\n",
    "        'Sandal', 'Shirt', 'Sneaker', 'Bag', 'Ankle Boot')"
   ]
  },
  {
   "cell_type": "code",
   "execution_count": 13,
   "id": "337035a6",
   "metadata": {},
   "outputs": [],
   "source": [
    "# helper function to show an image\n",
    "# (used in the `plot_classes_preds` function below)\n",
    "def matplotlib_imshow(img, one_channel=False):\n",
    "    if one_channel:\n",
    "        img = img.mean(dim=0)\n",
    "    img = img / 2 + 0.5     # unnormalize\n",
    "    npimg = img.numpy()\n",
    "    if one_channel:\n",
    "        plt.imshow(npimg, cmap=\"Greys\")\n",
    "    else:\n",
    "        plt.imshow(np.transpose(npimg, (1, 2, 0)))"
   ]
  },
  {
   "cell_type": "code",
   "execution_count": 16,
   "id": "a203d84a",
   "metadata": {},
   "outputs": [],
   "source": [
    "class Net(nn.Module):\n",
    "    def __init__(self):\n",
    "        super(Net, self).__init__()\n",
    "        self.conv1=nn.Conv2d(1,6,5)\n",
    "        self.pool1=nn.MaxPool2d(2,2)\n",
    "        self.conv2=nn.Conv2d(6, 16, 5)\n",
    "        self.fc1 = nn.Linear(16 * 4 * 4, 120)\n",
    "        self.fc2 = nn.Linear(120, 84)\n",
    "        self.fc3 = nn.Linear(84, 10)\n",
    "        \n",
    "    def forward(self, x):\n",
    "        x = self.pool(F.relu(self.conv1(x)))\n",
    "        x = self.pool(F.relu(self.conv2(x)))\n",
    "        x = x.view(-1, 16 * 4 * 4)\n",
    "        x = F.relu(self.fc1(x))\n",
    "        x = F.relu(self.fc2(x))\n",
    "        x = self.fc3(x)\n",
    "        return x\n",
    "    \n",
    "net = Net()"
   ]
  },
  {
   "cell_type": "code",
   "execution_count": 17,
   "id": "67d2a857",
   "metadata": {},
   "outputs": [],
   "source": [
    "criterion = nn.CrossEntropyLoss()\n",
    "optimizer = optim.SGD(net.parameters(), lr=0.001, momentum=0.9)"
   ]
  },
  {
   "cell_type": "markdown",
   "id": "618ced99",
   "metadata": {},
   "source": [
    "# NEW"
   ]
  },
  {
   "cell_type": "code",
   "execution_count": 21,
   "id": "dc605d6c",
   "metadata": {},
   "outputs": [
    {
     "name": "stdout",
     "output_type": "stream",
     "text": [
      "Downloading http://fashion-mnist.s3-website.eu-central-1.amazonaws.com/train-images-idx3-ubyte.gz\n",
      "Downloading http://fashion-mnist.s3-website.eu-central-1.amazonaws.com/train-images-idx3-ubyte.gz to /dataset/FAshMnist\\FashionMNIST\\raw\\train-images-idx3-ubyte.gz\n"
     ]
    },
    {
     "data": {
      "application/vnd.jupyter.widget-view+json": {
       "model_id": "d6e9b0db8dd34148a3a6c0f5eb4f3c74",
       "version_major": 2,
       "version_minor": 0
      },
      "text/plain": [
       "  0%|          | 0/26421880 [00:00<?, ?it/s]"
      ]
     },
     "metadata": {},
     "output_type": "display_data"
    },
    {
     "name": "stdout",
     "output_type": "stream",
     "text": [
      "Extracting /dataset/FAshMnist\\FashionMNIST\\raw\\train-images-idx3-ubyte.gz to /dataset/FAshMnist\\FashionMNIST\\raw\n",
      "\n",
      "Downloading http://fashion-mnist.s3-website.eu-central-1.amazonaws.com/train-labels-idx1-ubyte.gz\n",
      "Downloading http://fashion-mnist.s3-website.eu-central-1.amazonaws.com/train-labels-idx1-ubyte.gz to /dataset/FAshMnist\\FashionMNIST\\raw\\train-labels-idx1-ubyte.gz\n"
     ]
    },
    {
     "data": {
      "application/vnd.jupyter.widget-view+json": {
       "model_id": "094246f7e51946b0a49496c32722e686",
       "version_major": 2,
       "version_minor": 0
      },
      "text/plain": [
       "  0%|          | 0/29515 [00:00<?, ?it/s]"
      ]
     },
     "metadata": {},
     "output_type": "display_data"
    },
    {
     "name": "stdout",
     "output_type": "stream",
     "text": [
      "Extracting /dataset/FAshMnist\\FashionMNIST\\raw\\train-labels-idx1-ubyte.gz to /dataset/FAshMnist\\FashionMNIST\\raw\n",
      "\n",
      "Downloading http://fashion-mnist.s3-website.eu-central-1.amazonaws.com/t10k-images-idx3-ubyte.gz\n",
      "Downloading http://fashion-mnist.s3-website.eu-central-1.amazonaws.com/t10k-images-idx3-ubyte.gz to /dataset/FAshMnist\\FashionMNIST\\raw\\t10k-images-idx3-ubyte.gz\n"
     ]
    },
    {
     "data": {
      "application/vnd.jupyter.widget-view+json": {
       "model_id": "6c3ed1911d0d4d0dbc2c9c01cef1f7f4",
       "version_major": 2,
       "version_minor": 0
      },
      "text/plain": [
       "  0%|          | 0/4422102 [00:00<?, ?it/s]"
      ]
     },
     "metadata": {},
     "output_type": "display_data"
    },
    {
     "name": "stdout",
     "output_type": "stream",
     "text": [
      "Extracting /dataset/FAshMnist\\FashionMNIST\\raw\\t10k-images-idx3-ubyte.gz to /dataset/FAshMnist\\FashionMNIST\\raw\n",
      "\n",
      "Downloading http://fashion-mnist.s3-website.eu-central-1.amazonaws.com/t10k-labels-idx1-ubyte.gz\n",
      "Downloading http://fashion-mnist.s3-website.eu-central-1.amazonaws.com/t10k-labels-idx1-ubyte.gz to /dataset/FAshMnist\\FashionMNIST\\raw\\t10k-labels-idx1-ubyte.gz\n"
     ]
    },
    {
     "data": {
      "application/vnd.jupyter.widget-view+json": {
       "model_id": "37ffad84c6264fefb5c79fd490059f37",
       "version_major": 2,
       "version_minor": 0
      },
      "text/plain": [
       "  0%|          | 0/5148 [00:00<?, ?it/s]"
      ]
     },
     "metadata": {},
     "output_type": "display_data"
    },
    {
     "name": "stdout",
     "output_type": "stream",
     "text": [
      "Extracting /dataset/FAshMnist\\FashionMNIST\\raw\\t10k-labels-idx1-ubyte.gz to /dataset/FAshMnist\\FashionMNIST\\raw\n",
      "\n"
     ]
    }
   ],
   "source": [
    "train_data = torchvision.datasets.FashionMNIST(\n",
    "    root='/dataset/FAshMnist',\n",
    "    train=True,\n",
    "    download=True,\n",
    "    transform=torchvision.transforms.ToTensor(),\n",
    "    target_transform=None,\n",
    ")\n",
    "\n",
    "test_data = torchvision.datasets.FashionMNIST(\n",
    "    root='/dataset/FAshMnist',\n",
    "    train=False,\n",
    "    download=True,\n",
    "    transform=torchvision.transforms.ToTensor(),\n",
    "    target_transform=None,\n",
    ")"
   ]
  },
  {
   "cell_type": "code",
   "execution_count": 22,
   "id": "30ef544d",
   "metadata": {},
   "outputs": [
    {
     "data": {
      "text/plain": [
       "(60000, 10000)"
      ]
     },
     "execution_count": 22,
     "metadata": {},
     "output_type": "execute_result"
    }
   ],
   "source": [
    "len(train_data), len(test_data)"
   ]
  },
  {
   "cell_type": "code",
   "execution_count": 24,
   "id": "9b72cf0c",
   "metadata": {},
   "outputs": [
    {
     "data": {
      "text/plain": [
       "['T-shirt/top',\n",
       " 'Trouser',\n",
       " 'Pullover',\n",
       " 'Dress',\n",
       " 'Coat',\n",
       " 'Sandal',\n",
       " 'Shirt',\n",
       " 'Sneaker',\n",
       " 'Bag',\n",
       " 'Ankle boot']"
      ]
     },
     "execution_count": 24,
     "metadata": {},
     "output_type": "execute_result"
    }
   ],
   "source": [
    "class_names = train_data.classes\n",
    "class_names"
   ]
  },
  {
   "cell_type": "code",
   "execution_count": 25,
   "id": "f55a0923",
   "metadata": {},
   "outputs": [
    {
     "data": {
      "text/plain": [
       "{'T-shirt/top': 0,\n",
       " 'Trouser': 1,\n",
       " 'Pullover': 2,\n",
       " 'Dress': 3,\n",
       " 'Coat': 4,\n",
       " 'Sandal': 5,\n",
       " 'Shirt': 6,\n",
       " 'Sneaker': 7,\n",
       " 'Bag': 8,\n",
       " 'Ankle boot': 9}"
      ]
     },
     "execution_count": 25,
     "metadata": {},
     "output_type": "execute_result"
    }
   ],
   "source": [
    "idx_class = train_data.class_to_idx\n",
    "idx_class"
   ]
  },
  {
   "cell_type": "code",
   "execution_count": 26,
   "id": "c51d9a4b",
   "metadata": {},
   "outputs": [
    {
     "data": {
      "text/plain": [
       "tensor([9, 0, 0,  ..., 3, 0, 5])"
      ]
     },
     "execution_count": 26,
     "metadata": {},
     "output_type": "execute_result"
    }
   ],
   "source": [
    "train_data.targets"
   ]
  },
  {
   "cell_type": "markdown",
   "id": "1bf98ad2",
   "metadata": {},
   "source": [
    "# Visualization"
   ]
  },
  {
   "cell_type": "code",
   "execution_count": 30,
   "id": "787e3d76",
   "metadata": {},
   "outputs": [
    {
     "name": "stdout",
     "output_type": "stream",
     "text": [
      "torch.Size([1, 28, 28])\n"
     ]
    },
    {
     "data": {
      "text/plain": [
       "<matplotlib.image.AxesImage at 0x1b62a49b9d0>"
      ]
     },
     "execution_count": 30,
     "metadata": {},
     "output_type": "execute_result"
    },
    {
     "data": {
      "image/png": "[encoded data removed]",
      "text/plain": [
       "<Figure size 432x288 with 1 Axes>"
      ]
     },
     "metadata": {
      "needs_background": "light"
     },
     "output_type": "display_data"
    }
   ],
   "source": [
    "image, labels = train_data[0]\n",
    "print(image.shape)\n",
    "plt.imshow(image.squeeze())"
   ]
  },
  {
   "cell_type": "code",
   "execution_count": 49,
   "id": "dfbe318b",
   "metadata": {},
   "outputs": [],
   "source": [
    "# MiniBatches\n",
    "\n",
    "BATCH_SIZE=16\n",
    "\n",
    "from torch.utils.data import DataLoader\n",
    "train_dl = DataLoader(train_data,shuffle=True, batch_size=BATCH_SIZE, num_workers=2)\n",
    "test_dl = DataLoader(test_data,shuffle=False, batch_size=BATCH_SIZE, num_workers=2)"
   ]
  },
  {
   "cell_type": "code",
   "execution_count": 50,
   "id": "71d59e32",
   "metadata": {},
   "outputs": [],
   "source": [
    "# MOdeling\n",
    "\n",
    "fl_mod = nn.Flatten()\n",
    "\n",
    "\n",
    "class FashMNIST(nn.Module):\n",
    "    def __init__(self, \n",
    "                in_shape: int,\n",
    "                hid_units: int,\n",
    "                out_shape: int):\n",
    "        super().__init__()\n",
    "        \n",
    "        self.Seq = nn.Sequential(\n",
    "            fl_mod,\n",
    "            nn.Linear(in_features=in_shape,\n",
    "                     out_features=hid_units),\n",
    "            nn.Linear(in_features=hid_units,\n",
    "                     out_features=out_shape),\n",
    "        )\n",
    "        \n",
    "        \n",
    "    def forward(self, x):\n",
    "        return self.Seq(x)"
   ]
  },
  {
   "cell_type": "code",
   "execution_count": 51,
   "id": "f1d505bf",
   "metadata": {},
   "outputs": [
    {
     "data": {
      "text/plain": [
       "FashMNIST(\n",
       "  (Seq): Sequential(\n",
       "    (0): Flatten(start_dim=1, end_dim=-1)\n",
       "    (1): Linear(in_features=784, out_features=8, bias=True)\n",
       "    (2): Linear(in_features=8, out_features=10, bias=True)\n",
       "  )\n",
       ")"
      ]
     },
     "execution_count": 51,
     "metadata": {},
     "output_type": "execute_result"
    }
   ],
   "source": [
    "# Setting Model input Parameters\n",
    "\n",
    "model = FashMNIST(in_shape=28*28,\n",
    "                 hid_units=8,\n",
    "                 out_shape=len(class_names)).to(\"cpu\")\n",
    "\n",
    "model"
   ]
  },
  {
   "cell_type": "code",
   "execution_count": 52,
   "id": "e45c4171",
   "metadata": {},
   "outputs": [
    {
     "data": {
      "text/plain": [
       "OrderedDict([('Seq.1.weight',\n",
       "              tensor([[-0.0263, -0.0004, -0.0185,  ...,  0.0227,  0.0332, -0.0334],\n",
       "                      [ 0.0277,  0.0299, -0.0248,  ..., -0.0299, -0.0199,  0.0221],\n",
       "                      [-0.0209,  0.0099,  0.0035,  ...,  0.0224,  0.0063,  0.0115],\n",
       "                      ...,\n",
       "                      [ 0.0030, -0.0010,  0.0160,  ...,  0.0302,  0.0314, -0.0080],\n",
       "                      [-0.0335, -0.0285, -0.0186,  ..., -0.0327, -0.0324,  0.0145],\n",
       "                      [-0.0190,  0.0204,  0.0182,  ...,  0.0050,  0.0140,  0.0307]])),\n",
       "             ('Seq.1.bias',\n",
       "              tensor([ 0.0034, -0.0352,  0.0051,  0.0323, -0.0012,  0.0091, -0.0161, -0.0060])),\n",
       "             ('Seq.2.weight',\n",
       "              tensor([[-0.2741, -0.3297,  0.0896,  0.3287,  0.2929, -0.1550, -0.1182, -0.1005],\n",
       "                      [-0.0965, -0.1075, -0.0739,  0.0617,  0.1784,  0.1959,  0.1774, -0.3054],\n",
       "                      [ 0.3017,  0.0170, -0.1403,  0.1046,  0.2944,  0.1232,  0.0134, -0.2019],\n",
       "                      [ 0.1429,  0.1772, -0.1670, -0.0123, -0.1965,  0.2654,  0.0012,  0.1460],\n",
       "                      [-0.2192,  0.0824,  0.1362,  0.2279,  0.0066, -0.0699, -0.0927, -0.1269],\n",
       "                      [ 0.1612, -0.0341,  0.2781,  0.1473,  0.0159,  0.2583, -0.1937,  0.3065],\n",
       "                      [ 0.2202,  0.2798, -0.3434,  0.0835,  0.3445,  0.1947, -0.2624,  0.1980],\n",
       "                      [ 0.0728,  0.1990,  0.2085,  0.1172,  0.1176, -0.3310,  0.3281,  0.0269],\n",
       "                      [ 0.0083,  0.3130, -0.0613, -0.0896,  0.1903,  0.0680,  0.0791,  0.0780],\n",
       "                      [ 0.1093, -0.2760, -0.0963, -0.1845, -0.0255,  0.1476, -0.3040, -0.1271]])),\n",
       "             ('Seq.2.bias',\n",
       "              tensor([-0.0300, -0.0430,  0.1978,  0.0550, -0.2710, -0.1202, -0.2895, -0.0873,\n",
       "                      -0.2112,  0.0915]))])"
      ]
     },
     "execution_count": 52,
     "metadata": {},
     "output_type": "execute_result"
    }
   ],
   "source": [
    "model.state_dict()"
   ]
  },
  {
   "cell_type": "markdown",
   "id": "81f91aca",
   "metadata": {},
   "source": [
    "### We Can Create a seperate helper functions file save it as a .py file and load it later as a pythons script in different models to avoid writing useful light functions again and again."
   ]
  },
  {
   "cell_type": "code",
   "execution_count": 53,
   "id": "17140d2b",
   "metadata": {},
   "outputs": [],
   "source": [
    "# Setting up Loss Function And Optimizers\n",
    "\n",
    "loss_fn = nn.CrossEntropyLoss()\n",
    "opt = torch.optim.SGD(params=model.parameters(),lr=1e-1)"
   ]
  },
  {
   "cell_type": "code",
   "execution_count": null,
   "id": "c5c1ad00",
   "metadata": {},
   "outputs": [
    {
     "data": {
      "application/vnd.jupyter.widget-view+json": {
       "model_id": "b015cf4e28db4ff4bc5845879f78e926",
       "version_major": 2,
       "version_minor": 0
      },
      "text/plain": [
       "  0%|          | 0/5 [00:00<?, ?it/s]"
      ]
     },
     "metadata": {},
     "output_type": "display_data"
    }
   ],
   "source": [
    "# Creating Training Loop\n",
    "\n",
    "from tqdm.auto import tqdm\n",
    "\n",
    "epochs = 5\n",
    "\n",
    "for ep in tqdm(range(epochs)):\n",
    "    \n",
    "    train_loss = 0\n",
    "    \n",
    "    for bat, (X, y) in enumerate(train_dl):\n",
    "        model.train()\n",
    "        \n",
    "        y_pred = model(X)\n",
    "        \n",
    "        loss = loss_fn(y_pred, y)\n",
    "        train_loss += loss\n",
    "        \n",
    "        optimizer.zero_grad()\n",
    "        \n",
    "        loss.backward()\n",
    "        optimizer.step()\n",
    "    if bat % 400 == 0:\n",
    "        print(batch * len(X)/len(train_dl.dataset))\n",
    "    \n",
    "    train_loss /= len(train_dl)\n",
    "    \n",
    "    test_loss, test_acc = 0,0\n",
    "    model.eval()\n",
    "    \n",
    "    with torch.inference_mode():\n",
    "        for X_test, y_test in test_dl:\n",
    "            \n",
    "            test_pred = model(X_test)\n",
    "            \n",
    "            test_loss += loss_fn(test_pred, y_pred)\n",
    "            "
   ]
  },
  {
   "cell_type": "code",
   "execution_count": null,
   "id": "4fae0ec4",
   "metadata": {},
   "outputs": [],
   "source": []
  }
 ],
 "metadata": {
  "kernelspec": {
   "display_name": "Python 3 (ipykernel)",
   "language": "python",
   "name": "python3"
  },
  "language_info": {
   "codemirror_mode": {
    "name": "ipython",
    "version": 3
   },
   "file_extension": ".py",
   "mimetype": "text/x-python",
   "name": "python",
   "nbconvert_exporter": "python",
   "pygments_lexer": "ipython3",
   "version": "3.8.11"
  }
 },
 "nbformat": 4,
 "nbformat_minor": 5
}

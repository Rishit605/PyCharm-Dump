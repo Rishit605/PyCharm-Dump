{
 "cells": [
  {
   "cell_type": "code",
   "execution_count": 20,
   "id": "d911c80c",
   "metadata": {
    "scrolled": true
   },
   "outputs": [
    {
     "name": "stdout",
     "output_type": "stream",
     "text": [
      "Collecting comet_ml\n",
      "  Downloading comet_ml-3.31.19-py3-none-any.whl (441 kB)\n",
      "Requirement already satisfied: six in c:\\users\\pc\\anaconda3\\lib\\site-packages (from comet_ml) (1.15.0)\n",
      "Collecting sentry-sdk>=1.1.0\n",
      "  Downloading sentry_sdk-1.11.1-py2.py3-none-any.whl (168 kB)\n",
      "Collecting simplejson\n",
      "  Downloading simplejson-3.18.0-cp38-cp38-win_amd64.whl (76 kB)\n",
      "Collecting semantic-version>=2.8.0\n",
      "  Using cached semantic_version-2.10.0-py2.py3-none-any.whl (15 kB)\n",
      "Requirement already satisfied: jsonschema!=3.1.0,>=2.6.0 in c:\\users\\pc\\anaconda3\\lib\\site-packages (from comet_ml) (3.2.0)\n",
      "Collecting everett[ini]>=1.0.1\n",
      "  Downloading everett-3.1.0-py2.py3-none-any.whl (35 kB)\n",
      "Requirement already satisfied: wrapt>=1.11.2 in c:\\users\\pc\\anaconda3\\lib\\site-packages (from comet_ml) (1.12.1)\n",
      "Requirement already satisfied: requests>=2.18.4 in c:\\users\\pc\\anaconda3\\lib\\site-packages (from comet_ml) (2.25.1)\n",
      "Collecting requests-toolbelt>=0.8.0\n",
      "  Downloading requests_toolbelt-0.10.1-py2.py3-none-any.whl (54 kB)\n",
      "Collecting wurlitzer>=1.0.2\n",
      "  Downloading wurlitzer-3.0.3-py3-none-any.whl (7.3 kB)\n",
      "Collecting dulwich!=0.20.33,>=0.20.6\n",
      "  Downloading dulwich-0.20.50-cp38-cp38-win_amd64.whl (472 kB)\n",
      "Collecting websocket-client<1.4.0,>=0.55.0\n",
      "  Using cached websocket_client-1.3.3-py3-none-any.whl (54 kB)\n",
      "Requirement already satisfied: urllib3>=1.25 in c:\\users\\pc\\anaconda3\\lib\\site-packages (from dulwich!=0.20.33,>=0.20.6->comet_ml) (1.26.4)\n",
      "Collecting configobj\n",
      "  Using cached configobj-5.0.6.tar.gz (33 kB)"
     ]
    },
    {
     "name": "stderr",
     "output_type": "stream",
     "text": [
      "ERROR: pip's dependency resolver does not currently take into account all the packages that are installed. This behaviour is the source of the following dependency conflicts.\n",
      "conda-repo-cli 1.0.4 requires pathlib, which is not installed.\n",
      "anaconda-project 0.9.1 requires ruamel-yaml, which is not installed.\n"
     ]
    },
    {
     "name": "stdout",
     "output_type": "stream",
     "text": [
      "\n",
      "Requirement already satisfied: setuptools in c:\\users\\pc\\anaconda3\\lib\\site-packages (from jsonschema!=3.1.0,>=2.6.0->comet_ml) (52.0.0.post20210125)\n",
      "Requirement already satisfied: attrs>=17.4.0 in c:\\users\\pc\\anaconda3\\lib\\site-packages (from jsonschema!=3.1.0,>=2.6.0->comet_ml) (20.3.0)\n",
      "Requirement already satisfied: pyrsistent>=0.14.0 in c:\\users\\pc\\anaconda3\\lib\\site-packages (from jsonschema!=3.1.0,>=2.6.0->comet_ml) (0.17.3)\n",
      "Requirement already satisfied: certifi>=2017.4.17 in c:\\users\\pc\\anaconda3\\lib\\site-packages (from requests>=2.18.4->comet_ml) (2020.12.5)\n",
      "Requirement already satisfied: idna<3,>=2.5 in c:\\users\\pc\\anaconda3\\lib\\site-packages (from requests>=2.18.4->comet_ml) (2.10)\n",
      "Requirement already satisfied: chardet<5,>=3.0.2 in c:\\users\\pc\\anaconda3\\lib\\site-packages (from requests>=2.18.4->comet_ml) (4.0.0)\n",
      "Collecting urllib3>=1.25\n",
      "  Using cached urllib3-1.26.13-py2.py3-none-any.whl (140 kB)\n",
      "Building wheels for collected packages: configobj\n",
      "  Building wheel for configobj (setup.py): started\n",
      "  Building wheel for configobj (setup.py): finished with status 'done'\n",
      "  Created wheel for configobj: filename=configobj-5.0.6-py3-none-any.whl size=34547 sha256=b5f2ebf68b10deebe88356320909b70fba09d69c350f3d5f5bc25b7ec3c776c1\n",
      "  Stored in directory: c:\\users\\pc\\appdata\\local\\pip\\cache\\wheels\\34\\2a\\24\\a490264ae9041fd48f778ff393526572c80bb498ddecb07ea5\n",
      "Successfully built configobj\n",
      "Installing collected packages: urllib3, everett, configobj, wurlitzer, websocket-client, simplejson, sentry-sdk, semantic-version, requests-toolbelt, dulwich, comet-ml\n",
      "  Attempting uninstall: urllib3\n",
      "    Found existing installation: urllib3 1.26.4\n",
      "    Uninstalling urllib3-1.26.4:\n",
      "      Successfully uninstalled urllib3-1.26.4\n",
      "Successfully installed comet-ml-3.31.19 configobj-5.0.6 dulwich-0.20.50 everett-3.1.0 requests-toolbelt-0.10.1 semantic-version-2.10.0 sentry-sdk-1.11.1 simplejson-3.18.0 urllib3-1.26.13 websocket-client-1.3.3 wurlitzer-3.0.3\n"
     ]
    }
   ],
   "source": [
    "! pip install comet_ml"
   ]
  },
  {
   "cell_type": "code",
   "execution_count": 21,
   "id": "582aa57b",
   "metadata": {},
   "outputs": [
    {
     "name": "stderr",
     "output_type": "stream",
     "text": [
      "COMET WARNING: Comet has disabled auto-logging functionality as it has been imported after the following ML modules: sklearn. Metrics and hyperparameters can still be logged using comet_ml.log_metrics() and comet_ml.log_parameters()\n",
      "COMET WARNING: As you are running in a Jupyter environment, you will need to call `experiment.end()` when finished to ensure all metrics and code are logged before exiting.\n",
      "COMET INFO: Experiment is live on comet.com https://www.comet.com/vintagep/firstcheck/3c030f3a65594587abf8099c8487bff8\n",
      "\n"
     ]
    }
   ],
   "source": [
    "# Import comet_ml at the top of your file\n",
    "from comet_ml import Experiment\n",
    "\n",
    "# Create an experiment with your api key\n",
    "experiment = Experiment(\n",
    "    api_key=\"WzhQCnsnCgodHTTrGLeFORixh\",\n",
    "    project_name=\"FirstCheck\",\n",
    "    workspace=\"vintagep\",\n",
    ")"
   ]
  },
  {
   "cell_type": "code",
   "execution_count": 44,
   "id": "f66515a5",
   "metadata": {},
   "outputs": [],
   "source": [
    "import pickle\n",
    "import joblib\n",
    "\n",
    "import pandas as pd\n",
    "import numpy as np\n",
    "\n",
    "import seaborn as sns\n",
    "import matplotlib.pyplot as plt\n",
    "\n",
    "from sklearn.linear_model import LinearRegression, LogisticRegression\n",
    "from sklearn.model_selection import train_test_split, cross_val_score, cross_validate, GridSearchCV\n",
    "from sklearn.metrics import accuracy_score, mean_squared_error, mean_absolute_error, confusion_matrix\n",
    "from sklearn.preprocessing import MinMaxScaler, StandardScaler\n",
    "from sklearn.tree import DecisionTreeClassifier\n",
    "from sklearn.ensemble import RandomForestClassifier\n",
    "from sklearn.pipeline import Pipeline"
   ]
  },
  {
   "cell_type": "code",
   "execution_count": 27,
   "id": "6996f912",
   "metadata": {},
   "outputs": [
    {
     "name": "stdout",
     "output_type": "stream",
     "text": [
      "      id  gender   age  hypertension  heart_disease  ever_married  Work  \\\n",
      "0   9046       2  67.0             0              1             1     0   \n",
      "1  51676       1  61.0             0              0             1     1   \n",
      "2  31112       2  80.0             0              1             1     0   \n",
      "3  60182       1  49.0             0              0             1     0   \n",
      "4   1665       1  79.0             1              0             1     1   \n",
      "5  56669       2  81.0             0              0             1     0   \n",
      "6  53882       2  74.0             1              1             1     0   \n",
      "7  10434       1  69.0             0              0             0     0   \n",
      "8  27419       1  59.0             0              0             1     0   \n",
      "9  60491       1  78.0             0              0             1     0   \n",
      "\n",
      "   Residence  avg_glucose_level        bmi  Smoking  stroke  \n",
      "0          0             228.69  36.600000        0       1  \n",
      "1          1             202.21  28.893237        1       1  \n",
      "2          1             105.92  32.500000        1       1  \n",
      "3          0             171.23  34.400000        2       1  \n",
      "4          1             174.12  24.000000        1       1  \n",
      "5          0             186.21  29.000000        0       1  \n",
      "6          1              70.09  27.400000        1       1  \n",
      "7          0              94.39  22.800000        1       1  \n",
      "8          1              76.15  28.893237        3       1  \n",
      "9          0              58.57  24.200000        3       1  \n"
     ]
    }
   ],
   "source": [
    "df = pd.read_csv('C:/Users/pc/Desktop/AI and ML/ML/Datasets/Stroke Prediction/stroke-prediction-dataset/Stroke-Data_Cleaned.csv')\n",
    "print(df.head(10))"
   ]
  },
  {
   "cell_type": "code",
   "execution_count": 5,
   "id": "fe595a04",
   "metadata": {},
   "outputs": [],
   "source": [
    "\"\"\"Scaling\"\"\"\n",
    "\n",
    "mmScal = MinMaxScaler()"
   ]
  },
  {
   "cell_type": "code",
   "execution_count": 7,
   "id": "35704797",
   "metadata": {},
   "outputs": [
    {
     "name": "stdout",
     "output_type": "stream",
     "text": [
      "      id  gender       age  hypertension  heart_disease  ever_married  Work  \\\n",
      "0   9046     1.0  0.791667           0.0            1.0             1  0.00   \n",
      "1  51676     0.5  0.708333           0.0            0.0             1  0.25   \n",
      "2  31112     1.0  0.972222           0.0            1.0             1  0.00   \n",
      "3  60182     0.5  0.541667           0.0            0.0             1  0.00   \n",
      "4   1665     0.5  0.958333           1.0            0.0             1  0.25   \n",
      "5  56669     1.0  0.986111           0.0            0.0             1  0.00   \n",
      "6  53882     1.0  0.888889           1.0            1.0             1  0.00   \n",
      "7  10434     0.5  0.819444           0.0            0.0             0  0.00   \n",
      "8  27419     0.5  0.680556           0.0            0.0             1  0.00   \n",
      "9  60491     0.5  0.944444           0.0            0.0             1  0.00   \n",
      "\n",
      "   Residence  avg_glucose_level       bmi  Smoking  stroke  \n",
      "0          0           0.801265  0.655440        0       1  \n",
      "1          1           0.679023  0.455783        1       1  \n",
      "2          1           0.234512  0.549223        1       1  \n",
      "3          0           0.536008  0.598446        2       1  \n",
      "4          1           0.549349  0.329016        1       1  \n",
      "5          0           0.605161  0.458549        0       1  \n",
      "6          1           0.069107  0.417098        1       1  \n",
      "7          0           0.181285  0.297927        1       1  \n",
      "8          1           0.097082  0.455783        3       1  \n",
      "9          0           0.015927  0.334197        3       1  \n"
     ]
    }
   ],
   "source": [
    "\"\"\"Defining Variable\"\"\"\n",
    "\n",
    "num_vars = ['gender' ,'age', 'hypertension', 'heart_disease', 'bmi', 'avg_glucose_level', 'Work']\n",
    "df[num_vars] = mmScal.fit_transform(df[num_vars])\n",
    "\n",
    "print(df.head(10))"
   ]
  },
  {
   "cell_type": "code",
   "execution_count": 28,
   "id": "77e83a6d",
   "metadata": {},
   "outputs": [],
   "source": [
    "\"\"\"Defining Target and Feature Variable\"\"\"\n",
    "\n",
    "X = df[['gender' ,'age', 'hypertension', 'heart_disease', 'bmi', 'avg_glucose_level', 'Work']]\n",
    "y = df['stroke']"
   ]
  },
  {
   "cell_type": "code",
   "execution_count": 29,
   "id": "be74d428",
   "metadata": {},
   "outputs": [],
   "source": [
    "\"\"\"Splitting the Dataset\"\"\"\n",
    "\n",
    "X_train, X_val, y_train, y_val = train_test_split(X, y, test_size=0.3, random_state=1)"
   ]
  },
  {
   "cell_type": "code",
   "execution_count": 37,
   "id": "2d5bf0fd",
   "metadata": {},
   "outputs": [],
   "source": [
    "# pip_lr = Pipeline(steps=[\n",
    "#     ('scaler', StandardScaler()),\n",
    "#     ('model', LinearRegression()),\n",
    "# ])\n",
    "\n",
    "# pip_lor = Pipeline(steps=[\n",
    "#     ('scaler', StandardScaler()),\n",
    "#     ('model', LogisticRegression()),\n",
    "# ])\n",
    "\n",
    "# pip_dt = Pipeline(steps=[\n",
    "#     ('scaler', StandardScaler()),\n",
    "#     ('model', DecisionTreeClassifier()),\n",
    "# ])\n",
    "\n",
    "# pip_rf = Pipeline(steps=[\n",
    "#     ('scaler', StandardScaler()),\n",
    "#     ('model', RandomForestClassifier()),\n",
    "# ])"
   ]
  },
  {
   "cell_type": "code",
   "execution_count": 38,
   "id": "3672d1db",
   "metadata": {},
   "outputs": [
    {
     "data": {
      "text/html": [
       "<style>#sk-container-id-2 {color: black;background-color: white;}#sk-container-id-2 pre{padding: 0;}#sk-container-id-2 div.sk-toggleable {background-color: white;}#sk-container-id-2 label.sk-toggleable__label {cursor: pointer;display: block;width: 100%;margin-bottom: 0;padding: 0.3em;box-sizing: border-box;text-align: center;}#sk-container-id-2 label.sk-toggleable__label-arrow:before {content: \"▸\";float: left;margin-right: 0.25em;color: #696969;}#sk-container-id-2 label.sk-toggleable__label-arrow:hover:before {color: black;}#sk-container-id-2 div.sk-estimator:hover label.sk-toggleable__label-arrow:before {color: black;}#sk-container-id-2 div.sk-toggleable__content {max-height: 0;max-width: 0;overflow: hidden;text-align: left;background-color: #f0f8ff;}#sk-container-id-2 div.sk-toggleable__content pre {margin: 0.2em;color: black;border-radius: 0.25em;background-color: #f0f8ff;}#sk-container-id-2 input.sk-toggleable__control:checked~div.sk-toggleable__content {max-height: 200px;max-width: 100%;overflow: auto;}#sk-container-id-2 input.sk-toggleable__control:checked~label.sk-toggleable__label-arrow:before {content: \"▾\";}#sk-container-id-2 div.sk-estimator input.sk-toggleable__control:checked~label.sk-toggleable__label {background-color: #d4ebff;}#sk-container-id-2 div.sk-label input.sk-toggleable__control:checked~label.sk-toggleable__label {background-color: #d4ebff;}#sk-container-id-2 input.sk-hidden--visually {border: 0;clip: rect(1px 1px 1px 1px);clip: rect(1px, 1px, 1px, 1px);height: 1px;margin: -1px;overflow: hidden;padding: 0;position: absolute;width: 1px;}#sk-container-id-2 div.sk-estimator {font-family: monospace;background-color: #f0f8ff;border: 1px dotted black;border-radius: 0.25em;box-sizing: border-box;margin-bottom: 0.5em;}#sk-container-id-2 div.sk-estimator:hover {background-color: #d4ebff;}#sk-container-id-2 div.sk-parallel-item::after {content: \"\";width: 100%;border-bottom: 1px solid gray;flex-grow: 1;}#sk-container-id-2 div.sk-label:hover label.sk-toggleable__label {background-color: #d4ebff;}#sk-container-id-2 div.sk-serial::before {content: \"\";position: absolute;border-left: 1px solid gray;box-sizing: border-box;top: 0;bottom: 0;left: 50%;z-index: 0;}#sk-container-id-2 div.sk-serial {display: flex;flex-direction: column;align-items: center;background-color: white;padding-right: 0.2em;padding-left: 0.2em;position: relative;}#sk-container-id-2 div.sk-item {position: relative;z-index: 1;}#sk-container-id-2 div.sk-parallel {display: flex;align-items: stretch;justify-content: center;background-color: white;position: relative;}#sk-container-id-2 div.sk-item::before, #sk-container-id-2 div.sk-parallel-item::before {content: \"\";position: absolute;border-left: 1px solid gray;box-sizing: border-box;top: 0;bottom: 0;left: 50%;z-index: -1;}#sk-container-id-2 div.sk-parallel-item {display: flex;flex-direction: column;z-index: 1;position: relative;background-color: white;}#sk-container-id-2 div.sk-parallel-item:first-child::after {align-self: flex-end;width: 50%;}#sk-container-id-2 div.sk-parallel-item:last-child::after {align-self: flex-start;width: 50%;}#sk-container-id-2 div.sk-parallel-item:only-child::after {width: 0;}#sk-container-id-2 div.sk-dashed-wrapped {border: 1px dashed gray;margin: 0 0.4em 0.5em 0.4em;box-sizing: border-box;padding-bottom: 0.4em;background-color: white;}#sk-container-id-2 div.sk-label label {font-family: monospace;font-weight: bold;display: inline-block;line-height: 1.2em;}#sk-container-id-2 div.sk-label-container {text-align: center;}#sk-container-id-2 div.sk-container {/* jupyter's `normalize.less` sets `[hidden] { display: none; }` but bootstrap.min.css set `[hidden] { display: none !important; }` so we also need the `!important` here to be able to override the default hidden behavior on the sphinx rendered scikit-learn.org. See: https://github.com/scikit-learn/scikit-learn/issues/21755 */display: inline-block !important;position: relative;}#sk-container-id-2 div.sk-text-repr-fallback {display: none;}</style><div id=\"sk-container-id-2\" class=\"sk-top-container\"><div class=\"sk-text-repr-fallback\"><pre>Pipeline(steps=[(&#x27;scaler&#x27;, StandardScaler()),\n",
       "                (&#x27;model&#x27;, RandomForestClassifier())])</pre><b>In a Jupyter environment, please rerun this cell to show the HTML representation or trust the notebook. <br />On GitHub, the HTML representation is unable to render, please try loading this page with nbviewer.org.</b></div><div class=\"sk-container\" hidden><div class=\"sk-item sk-dashed-wrapped\"><div class=\"sk-label-container\"><div class=\"sk-label sk-toggleable\"><input class=\"sk-toggleable__control sk-hidden--visually\" id=\"sk-estimator-id-4\" type=\"checkbox\" ><label for=\"sk-estimator-id-4\" class=\"sk-toggleable__label sk-toggleable__label-arrow\">Pipeline</label><div class=\"sk-toggleable__content\"><pre>Pipeline(steps=[(&#x27;scaler&#x27;, StandardScaler()),\n",
       "                (&#x27;model&#x27;, RandomForestClassifier())])</pre></div></div></div><div class=\"sk-serial\"><div class=\"sk-item\"><div class=\"sk-estimator sk-toggleable\"><input class=\"sk-toggleable__control sk-hidden--visually\" id=\"sk-estimator-id-5\" type=\"checkbox\" ><label for=\"sk-estimator-id-5\" class=\"sk-toggleable__label sk-toggleable__label-arrow\">StandardScaler</label><div class=\"sk-toggleable__content\"><pre>StandardScaler()</pre></div></div></div><div class=\"sk-item\"><div class=\"sk-estimator sk-toggleable\"><input class=\"sk-toggleable__control sk-hidden--visually\" id=\"sk-estimator-id-6\" type=\"checkbox\" ><label for=\"sk-estimator-id-6\" class=\"sk-toggleable__label sk-toggleable__label-arrow\">RandomForestClassifier</label><div class=\"sk-toggleable__content\"><pre>RandomForestClassifier()</pre></div></div></div></div></div></div></div>"
      ],
      "text/plain": [
       "Pipeline(steps=[('scaler', StandardScaler()),\n",
       "                ('model', RandomForestClassifier())])"
      ]
     },
     "execution_count": 38,
     "metadata": {},
     "output_type": "execute_result"
    }
   ],
   "source": [
    "# pip_lr.fit(X_train, y_train)\n",
    "# pip_lor.fit(X_train, y_train)\n",
    "# pip_dt.fit(X_train, y_train)\n",
    "# pip_rf.fit(X_train, y_train)"
   ]
  },
  {
   "cell_type": "code",
   "execution_count": 39,
   "id": "346f502a",
   "metadata": {},
   "outputs": [],
   "source": [
    "# p_lr = pip_lr.predict(X_val)\n",
    "# p_lor = pip_lor.predict(X_val)\n",
    "# p_dt = pip_dt.predict(X_val)\n",
    "# p_rf = pip_rf.predict(X_val)"
   ]
  },
  {
   "cell_type": "code",
   "execution_count": 40,
   "id": "ae76177b",
   "metadata": {},
   "outputs": [],
   "source": [
    "# l = [p_lr, p_lor, p_dt, p_rf]"
   ]
  },
  {
   "cell_type": "code",
   "execution_count": 43,
   "id": "7f3ea7dd",
   "metadata": {},
   "outputs": [
    {
     "name": "stdout",
     "output_type": "stream",
     "text": [
      "0.05006328842649973\n",
      "0.05847953216374269\n",
      "0.11476608187134503\n",
      "0.05847953216374269\n"
     ]
    }
   ],
   "source": [
    "# for i in l:\n",
    "#     print(mean_squared_error(i, y_val))"
   ]
  },
  {
   "cell_type": "code",
   "execution_count": 45,
   "id": "644af950",
   "metadata": {},
   "outputs": [],
   "source": [
    "# lor_cm  = confusion_matrix(y_val,p_lor)\n",
    "# dt_cm = confusion_matrix(y_val,p_dt)\n",
    "# rf_cm  = confusion_matrix(y_val,p_rf)"
   ]
  },
  {
   "cell_type": "code",
   "execution_count": 46,
   "id": "e1a2bd7d",
   "metadata": {},
   "outputs": [],
   "source": [
    "# l1 = [lor_cm, dt_cm, rf_cm]"
   ]
  },
  {
   "cell_type": "code",
   "execution_count": 49,
   "id": "7f821207",
   "metadata": {},
   "outputs": [
    {
     "name": "stdout",
     "output_type": "stream",
     "text": [
      "              precision    recall  f1-score   support\n",
      "\n",
      "           0       0.94      1.00      0.97      1288\n",
      "           1       0.00      0.00      0.00        80\n",
      "\n",
      "    accuracy                           0.94      1368\n",
      "   macro avg       0.47      0.50      0.48      1368\n",
      "weighted avg       0.89      0.94      0.91      1368\n",
      " Accuracy Score:  0.9415204678362573\n",
      "              precision    recall  f1-score   support\n",
      "\n",
      "           0       0.95      0.93      0.94      1288\n",
      "           1       0.13      0.17      0.15        80\n",
      "\n",
      "    accuracy                           0.89      1368\n",
      "   macro avg       0.54      0.55      0.54      1368\n",
      "weighted avg       0.90      0.89      0.89      1368\n",
      " Accuracy Score:  0.8852339181286549\n",
      "              precision    recall  f1-score   support\n",
      "\n",
      "           0       0.94      1.00      0.97      1288\n",
      "           1       0.50      0.03      0.05        80\n",
      "\n",
      "    accuracy                           0.94      1368\n",
      "   macro avg       0.72      0.51      0.51      1368\n",
      "weighted avg       0.92      0.94      0.92      1368\n",
      " Accuracy Score:  0.9415204678362573\n"
     ]
    },
    {
     "name": "stderr",
     "output_type": "stream",
     "text": [
      "C:\\Users\\pc\\anaconda3\\lib\\site-packages\\sklearn\\metrics\\_classification.py:1334: UndefinedMetricWarning: Precision and F-score are ill-defined and being set to 0.0 in labels with no predicted samples. Use `zero_division` parameter to control this behavior.\n",
      "  _warn_prf(average, modifier, msg_start, len(result))\n",
      "C:\\Users\\pc\\anaconda3\\lib\\site-packages\\sklearn\\metrics\\_classification.py:1334: UndefinedMetricWarning: Precision and F-score are ill-defined and being set to 0.0 in labels with no predicted samples. Use `zero_division` parameter to control this behavior.\n",
      "  _warn_prf(average, modifier, msg_start, len(result))\n",
      "C:\\Users\\pc\\anaconda3\\lib\\site-packages\\sklearn\\metrics\\_classification.py:1334: UndefinedMetricWarning: Precision and F-score are ill-defined and being set to 0.0 in labels with no predicted samples. Use `zero_division` parameter to control this behavior.\n",
      "  _warn_prf(average, modifier, msg_start, len(result))\n"
     ]
    }
   ],
   "source": [
    "# from sklearn.metrics import plot_confusion_matrix, classification_report\n",
    "\n",
    "# print(classification_report(y_val,p_lor), 'Accuracy Score: ',accuracy_score(y_val,p_lor))\n",
    "# print(classification_report(y_val,p_dt),'Accuracy Score: ',accuracy_score(y_val,p_dt))\n",
    "# print(classification_report(y_val,p_rf), 'Accuracy Score: ',accuracy_score(y_val,p_rf))"
   ]
  },
  {
   "cell_type": "code",
   "execution_count": 50,
   "id": "07378cd5",
   "metadata": {},
   "outputs": [
    {
     "data": {
      "text/html": [
       "<style>#sk-container-id-3 {color: black;background-color: white;}#sk-container-id-3 pre{padding: 0;}#sk-container-id-3 div.sk-toggleable {background-color: white;}#sk-container-id-3 label.sk-toggleable__label {cursor: pointer;display: block;width: 100%;margin-bottom: 0;padding: 0.3em;box-sizing: border-box;text-align: center;}#sk-container-id-3 label.sk-toggleable__label-arrow:before {content: \"▸\";float: left;margin-right: 0.25em;color: #696969;}#sk-container-id-3 label.sk-toggleable__label-arrow:hover:before {color: black;}#sk-container-id-3 div.sk-estimator:hover label.sk-toggleable__label-arrow:before {color: black;}#sk-container-id-3 div.sk-toggleable__content {max-height: 0;max-width: 0;overflow: hidden;text-align: left;background-color: #f0f8ff;}#sk-container-id-3 div.sk-toggleable__content pre {margin: 0.2em;color: black;border-radius: 0.25em;background-color: #f0f8ff;}#sk-container-id-3 input.sk-toggleable__control:checked~div.sk-toggleable__content {max-height: 200px;max-width: 100%;overflow: auto;}#sk-container-id-3 input.sk-toggleable__control:checked~label.sk-toggleable__label-arrow:before {content: \"▾\";}#sk-container-id-3 div.sk-estimator input.sk-toggleable__control:checked~label.sk-toggleable__label {background-color: #d4ebff;}#sk-container-id-3 div.sk-label input.sk-toggleable__control:checked~label.sk-toggleable__label {background-color: #d4ebff;}#sk-container-id-3 input.sk-hidden--visually {border: 0;clip: rect(1px 1px 1px 1px);clip: rect(1px, 1px, 1px, 1px);height: 1px;margin: -1px;overflow: hidden;padding: 0;position: absolute;width: 1px;}#sk-container-id-3 div.sk-estimator {font-family: monospace;background-color: #f0f8ff;border: 1px dotted black;border-radius: 0.25em;box-sizing: border-box;margin-bottom: 0.5em;}#sk-container-id-3 div.sk-estimator:hover {background-color: #d4ebff;}#sk-container-id-3 div.sk-parallel-item::after {content: \"\";width: 100%;border-bottom: 1px solid gray;flex-grow: 1;}#sk-container-id-3 div.sk-label:hover label.sk-toggleable__label {background-color: #d4ebff;}#sk-container-id-3 div.sk-serial::before {content: \"\";position: absolute;border-left: 1px solid gray;box-sizing: border-box;top: 0;bottom: 0;left: 50%;z-index: 0;}#sk-container-id-3 div.sk-serial {display: flex;flex-direction: column;align-items: center;background-color: white;padding-right: 0.2em;padding-left: 0.2em;position: relative;}#sk-container-id-3 div.sk-item {position: relative;z-index: 1;}#sk-container-id-3 div.sk-parallel {display: flex;align-items: stretch;justify-content: center;background-color: white;position: relative;}#sk-container-id-3 div.sk-item::before, #sk-container-id-3 div.sk-parallel-item::before {content: \"\";position: absolute;border-left: 1px solid gray;box-sizing: border-box;top: 0;bottom: 0;left: 50%;z-index: -1;}#sk-container-id-3 div.sk-parallel-item {display: flex;flex-direction: column;z-index: 1;position: relative;background-color: white;}#sk-container-id-3 div.sk-parallel-item:first-child::after {align-self: flex-end;width: 50%;}#sk-container-id-3 div.sk-parallel-item:last-child::after {align-self: flex-start;width: 50%;}#sk-container-id-3 div.sk-parallel-item:only-child::after {width: 0;}#sk-container-id-3 div.sk-dashed-wrapped {border: 1px dashed gray;margin: 0 0.4em 0.5em 0.4em;box-sizing: border-box;padding-bottom: 0.4em;background-color: white;}#sk-container-id-3 div.sk-label label {font-family: monospace;font-weight: bold;display: inline-block;line-height: 1.2em;}#sk-container-id-3 div.sk-label-container {text-align: center;}#sk-container-id-3 div.sk-container {/* jupyter's `normalize.less` sets `[hidden] { display: none; }` but bootstrap.min.css set `[hidden] { display: none !important; }` so we also need the `!important` here to be able to override the default hidden behavior on the sphinx rendered scikit-learn.org. See: https://github.com/scikit-learn/scikit-learn/issues/21755 */display: inline-block !important;position: relative;}#sk-container-id-3 div.sk-text-repr-fallback {display: none;}</style><div id=\"sk-container-id-3\" class=\"sk-top-container\"><div class=\"sk-text-repr-fallback\"><pre>RandomForestClassifier(n_estimators=50, random_state=0)</pre><b>In a Jupyter environment, please rerun this cell to show the HTML representation or trust the notebook. <br />On GitHub, the HTML representation is unable to render, please try loading this page with nbviewer.org.</b></div><div class=\"sk-container\" hidden><div class=\"sk-item\"><div class=\"sk-estimator sk-toggleable\"><input class=\"sk-toggleable__control sk-hidden--visually\" id=\"sk-estimator-id-7\" type=\"checkbox\" checked><label for=\"sk-estimator-id-7\" class=\"sk-toggleable__label sk-toggleable__label-arrow\">RandomForestClassifier</label><div class=\"sk-toggleable__content\"><pre>RandomForestClassifier(n_estimators=50, random_state=0)</pre></div></div></div></div></div>"
      ],
      "text/plain": [
       "RandomForestClassifier(n_estimators=50, random_state=0)"
      ]
     },
     "execution_count": 50,
     "metadata": {},
     "output_type": "execute_result"
    }
   ],
   "source": [
    "model = RandomForestClassifier(n_estimators=50, random_state=0)\n",
    "\n",
    "model.fit(X_train, y_train)"
   ]
  },
  {
   "cell_type": "code",
   "execution_count": 52,
   "id": "c9d9ec7d",
   "metadata": {},
   "outputs": [],
   "source": [
    "pred = model.predict(X_val)"
   ]
  },
  {
   "cell_type": "code",
   "execution_count": 53,
   "id": "f09ad234",
   "metadata": {},
   "outputs": [
    {
     "name": "stdout",
     "output_type": "stream",
     "text": [
      "0.9407894736842105\n"
     ]
    }
   ],
   "source": [
    "# print(accuracy_score(pred, y_val))"
   ]
  },
  {
   "cell_type": "code",
   "execution_count": 54,
   "id": "8c6b2cc3",
   "metadata": {},
   "outputs": [
    {
     "name": "stderr",
     "output_type": "stream",
     "text": [
      "COMET INFO: ---------------------------\n",
      "COMET INFO: Comet.ml Experiment Summary\n",
      "COMET INFO: ---------------------------\n",
      "COMET INFO:   Data:\n",
      "COMET INFO:     display_summary_level : 1\n",
      "COMET INFO:     url                   : https://www.comet.com/vintagep/firstcheck/3c030f3a65594587abf8099c8487bff8\n",
      "COMET INFO:   Uploads:\n",
      "COMET INFO:     conda-environment-definition : 1\n",
      "COMET INFO:     conda-info                   : 1\n",
      "COMET INFO:     conda-specification          : 1\n",
      "COMET INFO:     environment details          : 1\n",
      "COMET INFO:     filename                     : 1\n",
      "COMET INFO:     git metadata                 : 1\n",
      "COMET INFO:     git-patch (uncompressed)     : 1 (922.84 KB)\n",
      "COMET INFO:     installed packages           : 1\n",
      "COMET INFO:     notebook                     : 1\n",
      "COMET INFO:     source_code                  : 1\n",
      "COMET INFO: ---------------------------\n",
      "COMET WARNING: Comet has disabled auto-logging functionality as it has been imported after the following ML modules: sklearn. Metrics and hyperparameters can still be logged using comet_ml.log_metrics() and comet_ml.log_parameters()\n",
      "COMET INFO: Uploading metrics, params, and assets to Comet before program termination (may take several seconds)\n",
      "COMET INFO: The Python SDK has 3600 seconds to finish before aborting...\n"
     ]
    }
   ],
   "source": [
    "experiment.end()"
   ]
  },
  {
   "cell_type": "code",
   "execution_count": null,
   "id": "95a1bddc",
   "metadata": {},
   "outputs": [],
   "source": []
  }
 ],
 "metadata": {
  "kernelspec": {
   "display_name": "Python 3",
   "language": "python",
   "name": "python3"
  },
  "language_info": {
   "codemirror_mode": {
    "name": "ipython",
    "version": 3
   },
   "file_extension": ".py",
   "mimetype": "text/x-python",
   "name": "python",
   "nbconvert_exporter": "python",
   "pygments_lexer": "ipython3",
   "version": "3.8.8"
  }
 },
 "nbformat": 4,
 "nbformat_minor": 5
}

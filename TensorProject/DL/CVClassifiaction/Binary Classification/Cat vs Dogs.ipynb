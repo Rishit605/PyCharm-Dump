{
 "cells": [
  {
   "cell_type": "code",
   "execution_count": 2,
   "id": "a6a2c715",
   "metadata": {},
   "outputs": [],
   "source": [
    "! mkdir dataset"
   ]
  },
  {
   "cell_type": "code",
   "execution_count": 8,
   "id": "e9b1f34c",
   "metadata": {},
   "outputs": [
    {
     "name": "stdout",
     "output_type": "stream",
     "text": [
      "C:\\Users\\pc\\PycharmProjects\\TensorProject\\DL\\CVClassifiaction\\Binary Classification\\dataset\n"
     ]
    }
   ],
   "source": [
    "cd dataset"
   ]
  },
  {
   "cell_type": "code",
   "execution_count": 9,
   "id": "b8c24b30",
   "metadata": {},
   "outputs": [
    {
     "name": "stdout",
     "output_type": "stream",
     "text": [
      "Downloading cat-and-dog.zip to C:\\Users\\pc\\PycharmProjects\\TensorProject\\DL\\CVClassifiaction\\Binary Classification\\dataset\n",
      "\n"
     ]
    },
    {
     "name": "stderr",
     "output_type": "stream",
     "text": [
      "\n",
      "  0%|          | 0.00/218M [00:00<?, ?B/s]\n",
      "  0%|          | 1.00M/218M [00:00<01:10, 3.23MB/s]\n",
      "  2%|1         | 4.00M/218M [00:00<00:23, 9.36MB/s]\n",
      "  3%|2         | 6.00M/218M [00:00<00:20, 11.0MB/s]\n",
      "  4%|4         | 9.00M/218M [00:00<00:14, 14.8MB/s]\n",
      "  5%|5         | 11.0M/218M [00:00<00:14, 14.5MB/s]\n",
      "  6%|5         | 13.0M/218M [00:01<00:14, 14.4MB/s]\n",
      "  7%|6         | 15.0M/218M [00:01<00:14, 14.6MB/s]\n",
      "  8%|7         | 17.0M/218M [00:01<00:14, 14.4MB/s]\n",
      "  9%|8         | 19.0M/218M [00:01<00:14, 14.4MB/s]\n",
      " 10%|9         | 21.0M/218M [00:01<00:13, 14.9MB/s]\n",
      " 11%|#         | 23.0M/218M [00:01<00:13, 15.1MB/s]\n",
      " 11%|#1        | 25.0M/218M [00:01<00:14, 14.3MB/s]\n",
      " 12%|#2        | 27.0M/218M [00:02<00:13, 14.6MB/s]\n",
      " 13%|#3        | 29.0M/218M [00:02<00:12, 15.4MB/s]\n",
      " 14%|#4        | 31.0M/218M [00:02<00:13, 14.4MB/s]\n",
      " 15%|#5        | 33.0M/218M [00:02<00:12, 14.9MB/s]\n",
      " 16%|#6        | 35.0M/218M [00:02<00:12, 14.8MB/s]\n",
      " 17%|#6        | 37.0M/218M [00:02<00:12, 14.7MB/s]\n",
      " 18%|#7        | 39.0M/218M [00:02<00:12, 14.6MB/s]\n",
      " 19%|#8        | 41.0M/218M [00:03<00:12, 14.6MB/s]\n",
      " 20%|#9        | 43.0M/218M [00:03<00:12, 14.9MB/s]\n",
      " 21%|##        | 45.0M/218M [00:03<00:11, 15.4MB/s]\n",
      " 22%|##1       | 47.0M/218M [00:03<00:11, 15.4MB/s]\n",
      " 22%|##2       | 49.0M/218M [00:03<00:12, 14.2MB/s]\n",
      " 24%|##3       | 52.0M/218M [00:03<00:11, 14.7MB/s]\n",
      " 25%|##4       | 54.0M/218M [00:03<00:10, 15.8MB/s]\n",
      " 26%|##5       | 56.0M/218M [00:04<00:11, 15.1MB/s]\n",
      " 27%|##6       | 58.0M/218M [00:04<00:10, 15.4MB/s]\n",
      " 28%|##7       | 60.0M/218M [00:04<00:10, 15.6MB/s]\n",
      " 28%|##8       | 62.0M/218M [00:04<00:10, 15.1MB/s]\n",
      " 29%|##9       | 64.0M/218M [00:04<00:10, 15.2MB/s]\n",
      " 30%|###       | 66.0M/218M [00:04<00:10, 14.8MB/s]\n",
      " 31%|###1      | 68.0M/218M [00:04<00:10, 14.9MB/s]\n",
      " 32%|###2      | 70.0M/218M [00:05<00:10, 14.6MB/s]\n",
      " 33%|###3      | 72.0M/218M [00:05<00:09, 15.3MB/s]\n",
      " 34%|###3      | 74.0M/218M [00:05<00:10, 13.9MB/s]\n",
      " 35%|###4      | 76.0M/218M [00:05<00:09, 15.2MB/s]\n",
      " 36%|###5      | 78.0M/218M [00:05<00:09, 14.8MB/s]\n",
      " 37%|###7      | 81.0M/218M [00:05<00:09, 15.3MB/s]\n",
      " 38%|###8      | 83.0M/218M [00:06<00:09, 15.2MB/s]\n",
      " 39%|###9      | 85.0M/218M [00:06<00:08, 15.6MB/s]\n",
      " 40%|###9      | 87.0M/218M [00:06<00:09, 13.9MB/s]\n",
      " 41%|####      | 89.0M/218M [00:06<00:08, 15.2MB/s]\n",
      " 42%|####1     | 91.0M/218M [00:06<00:08, 15.6MB/s]\n",
      " 43%|####2     | 93.0M/218M [00:06<00:08, 15.1MB/s]\n",
      " 44%|####3     | 95.0M/218M [00:06<00:08, 15.0MB/s]\n",
      " 45%|####4     | 97.0M/218M [00:06<00:08, 15.8MB/s]\n",
      " 45%|####5     | 99.0M/218M [00:07<00:08, 14.7MB/s]\n",
      " 47%|####6     | 102M/218M [00:07<00:08, 14.3MB/s] \n",
      " 48%|####7     | 104M/218M [00:07<00:07, 15.2MB/s]\n",
      " 49%|####8     | 106M/218M [00:07<00:07, 15.2MB/s]\n",
      " 50%|####9     | 108M/218M [00:07<00:07, 14.8MB/s]\n",
      " 50%|#####     | 110M/218M [00:07<00:07, 14.3MB/s]\n",
      " 51%|#####1    | 112M/218M [00:08<00:07, 15.4MB/s]\n",
      " 52%|#####2    | 114M/218M [00:08<00:07, 14.4MB/s]\n",
      " 53%|#####3    | 116M/218M [00:08<00:06, 15.4MB/s]\n",
      " 54%|#####4    | 118M/218M [00:08<00:08, 12.8MB/s]\n",
      " 56%|#####5    | 121M/218M [00:08<00:06, 15.7MB/s]\n",
      " 56%|#####6    | 123M/218M [00:08<00:06, 15.1MB/s]\n",
      " 57%|#####7    | 125M/218M [00:08<00:06, 14.9MB/s]\n",
      " 58%|#####8    | 127M/218M [00:09<00:06, 15.2MB/s]\n",
      " 59%|#####9    | 129M/218M [00:09<00:05, 16.0MB/s]\n",
      " 60%|######    | 131M/218M [00:09<00:06, 14.2MB/s]\n",
      " 61%|######1   | 133M/218M [00:09<00:05, 15.0MB/s]\n",
      " 62%|######1   | 135M/218M [00:09<00:05, 14.7MB/s]\n",
      " 63%|######2   | 137M/218M [00:09<00:06, 13.6MB/s]\n",
      " 64%|######4   | 140M/218M [00:10<00:05, 15.7MB/s]\n",
      " 65%|######5   | 142M/218M [00:10<00:05, 15.4MB/s]\n",
      " 66%|######6   | 144M/218M [00:10<00:05, 15.3MB/s]\n",
      " 67%|######7   | 146M/218M [00:10<00:04, 15.2MB/s]\n",
      " 68%|######7   | 148M/218M [00:10<00:05, 13.9MB/s]\n",
      " 69%|######8   | 150M/218M [00:10<00:04, 15.1MB/s]\n",
      " 70%|######9   | 152M/218M [00:10<00:04, 14.9MB/s]\n",
      " 71%|#######   | 154M/218M [00:11<00:04, 14.5MB/s]\n",
      " 72%|#######1  | 156M/218M [00:11<00:04, 14.5MB/s]\n",
      " 73%|#######2  | 158M/218M [00:11<00:04, 15.4MB/s]\n",
      " 73%|#######3  | 160M/218M [00:11<00:04, 13.0MB/s]\n",
      " 75%|#######4  | 163M/218M [00:11<00:03, 16.3MB/s]\n",
      " 76%|#######5  | 165M/218M [00:11<00:03, 15.5MB/s]\n",
      " 77%|#######6  | 167M/218M [00:11<00:03, 15.9MB/s]\n",
      " 78%|#######7  | 169M/218M [00:12<00:03, 14.9MB/s]\n",
      " 78%|#######8  | 171M/218M [00:12<00:03, 15.5MB/s]\n",
      " 79%|#######9  | 173M/218M [00:12<00:03, 14.3MB/s]\n",
      " 80%|########  | 175M/218M [00:12<00:02, 15.3MB/s]\n",
      " 81%|########1 | 177M/218M [00:12<00:03, 13.8MB/s]\n",
      " 82%|########2 | 179M/218M [00:12<00:02, 14.9MB/s]\n",
      " 83%|########3 | 181M/218M [00:12<00:02, 14.1MB/s]\n",
      " 84%|########3 | 183M/218M [00:13<00:02, 15.4MB/s]\n",
      " 85%|########4 | 185M/218M [00:13<00:02, 14.9MB/s]\n",
      " 86%|########5 | 187M/218M [00:13<00:02, 15.4MB/s]\n",
      " 87%|########6 | 189M/218M [00:13<00:02, 14.1MB/s]\n",
      " 88%|########7 | 191M/218M [00:13<00:01, 15.1MB/s]\n",
      " 89%|########8 | 193M/218M [00:13<00:01, 15.0MB/s]\n",
      " 89%|########9 | 195M/218M [00:13<00:01, 15.5MB/s]\n",
      " 90%|######### | 197M/218M [00:14<00:01, 13.9MB/s]\n",
      " 91%|#########1| 199M/218M [00:14<00:01, 14.9MB/s]\n",
      " 92%|#########2| 201M/218M [00:14<00:01, 15.6MB/s]\n",
      " 93%|#########3| 203M/218M [00:14<00:01, 15.1MB/s]\n",
      " 94%|#########4| 205M/218M [00:14<00:00, 13.8MB/s]\n",
      " 95%|#########4| 207M/218M [00:14<00:00, 15.2MB/s]\n",
      " 96%|#########5| 209M/218M [00:14<00:00, 14.9MB/s]\n",
      " 97%|#########6| 211M/218M [00:15<00:00, 15.1MB/s]\n",
      " 98%|#########7| 213M/218M [00:15<00:00, 15.2MB/s]\n",
      " 99%|#########8| 215M/218M [00:15<00:00, 14.0MB/s]\n",
      "100%|##########| 218M/218M [00:15<00:00, 16.0MB/s]\n",
      "100%|##########| 218M/218M [00:15<00:00, 14.8MB/s]\n"
     ]
    }
   ],
   "source": [
    "! kaggle datasets download -d tongpython/cat-and-dog"
   ]
  },
  {
   "cell_type": "code",
   "execution_count": 21,
   "id": "8627fc9e",
   "metadata": {},
   "outputs": [
    {
     "name": "stdout",
     "output_type": "stream",
     "text": [
      "C:\\Users\\pc\\PycharmProjects\\TensorProject\\DL\\CVClassifiaction\\Binary Classification\\dataset\n"
     ]
    }
   ],
   "source": [
    "! cd"
   ]
  },
  {
   "cell_type": "code",
   "execution_count": 24,
   "id": "13f50230",
   "metadata": {},
   "outputs": [],
   "source": [
    "import zipfile\n",
    "with zipfile.ZipFile(\"cat-and-dog.zip\", 'r') as zip_ref:\n",
    "    zip_ref.extractall(\"dataset/\")"
   ]
  },
  {
   "cell_type": "markdown",
   "id": "961e7af8",
   "metadata": {},
   "source": [
    "# Importing Dataset"
   ]
  },
  {
   "cell_type": "code",
   "execution_count": 73,
   "id": "14fc0185",
   "metadata": {},
   "outputs": [],
   "source": [
    "import tensorflow as tf\n",
    "from tensorflow import keras\n",
    "from tensorflow.keras import layers\n",
    "from keras.models import Sequential\n",
    "from keras.layers import Dense, Conv2D, Flatten, MaxPooling2D\n",
    "from tensorflow.keras.preprocessing.image import ImageDataGenerator\n",
    "\n",
    "from sklearn.metrics import confusion_matrix\n",
    "import matplotlib.pyplot as plt\n",
    "\n",
    "tf.debugging.set_log_device_placement(True)"
   ]
  },
  {
   "cell_type": "code",
   "execution_count": 74,
   "id": "293d2431",
   "metadata": {},
   "outputs": [],
   "source": [
    "train_df = \"dataset/training_set/training_set\"\n",
    "test_df = \"dataset/test_set/test_set\""
   ]
  },
  {
   "cell_type": "code",
   "execution_count": 75,
   "id": "067c8121",
   "metadata": {},
   "outputs": [],
   "source": [
    "gen = ImageDataGenerator(\n",
    "    rescale=1./255,\n",
    "    rotation_range=40,\n",
    "    width_shift_range=0.2,\n",
    "    height_shift_range=0.2,\n",
    "    shear_range=0.2,\n",
    "    zoom_range=0.2,\n",
    "    horizontal_flip=0.2,\n",
    "    fill_mode='nearest',\n",
    ")"
   ]
  },
  {
   "cell_type": "code",
   "execution_count": 84,
   "id": "c112af42",
   "metadata": {},
   "outputs": [
    {
     "name": "stdout",
     "output_type": "stream",
     "text": [
      "Found 8005 images belonging to 2 classes.\n",
      "Found 2023 images belonging to 2 classes.\n"
     ]
    }
   ],
   "source": [
    "train_gen = gen.flow_from_directory(\n",
    "    train_df,\n",
    "    target_size=(200, 200),\n",
    "    batch_size=30,\n",
    "    class_mode='binary',\n",
    "    shuffle=True,\n",
    ")\n",
    "\n",
    "test_gen = gen.flow_from_directory(\n",
    "    test_df,\n",
    "    target_size=(200, 200),\n",
    "    batch_size=30,\n",
    "    class_mode='binary',\n",
    "    shuffle=False,\n",
    ")"
   ]
  },
  {
   "cell_type": "code",
   "execution_count": 96,
   "id": "e1d62dcf",
   "metadata": {},
   "outputs": [],
   "source": [
    "# PARAMETERS\n",
    "\n",
    "EPOCHS=15\n",
    "VERB=2"
   ]
  },
  {
   "cell_type": "code",
   "execution_count": 102,
   "id": "ce7f197b",
   "metadata": {},
   "outputs": [],
   "source": [
    "model = Sequential([\n",
    "    layers.Conv2D(16, (3,3), activation='relu', padding='same', input_shape=(200, 200, 3)),\n",
    "    layers.MaxPooling2D(2, 2),\n",
    "    layers.Conv2D(32, (3,3), activation='relu', padding='same'),\n",
    "    layers.MaxPooling2D(2, 2),\n",
    "    layers.Conv2D(64, (3,3), activation='relu', padding='same'),\n",
    "    layers.MaxPooling2D(2, 2),\n",
    "    layers.Conv2D(64, (3,3), activation='relu', padding='same'),\n",
    "    layers.MaxPooling2D(2, 2),\n",
    "    \n",
    "    layers.Flatten(),\n",
    "    layers.Dense(512, activation='relu'),\n",
    "    layers.Dropout(0.3),\n",
    "    layers.Dense(128, activation='relu'),\n",
    "    layers.Dropout(0.3),\n",
    "    layers.Dense(1, activation='sigmoid'), \n",
    "])"
   ]
  },
  {
   "cell_type": "code",
   "execution_count": 103,
   "id": "debaf492",
   "metadata": {},
   "outputs": [
    {
     "name": "stdout",
     "output_type": "stream",
     "text": [
      "Model: \"sequential_5\"\n",
      "_________________________________________________________________\n",
      "Layer (type)                 Output Shape              Param #   \n",
      "=================================================================\n",
      "conv2d_21 (Conv2D)           (None, 200, 200, 16)      448       \n",
      "_________________________________________________________________\n",
      "max_pooling2d_20 (MaxPooling (None, 100, 100, 16)      0         \n",
      "_________________________________________________________________\n",
      "conv2d_22 (Conv2D)           (None, 100, 100, 32)      4640      \n",
      "_________________________________________________________________\n",
      "max_pooling2d_21 (MaxPooling (None, 50, 50, 32)        0         \n",
      "_________________________________________________________________\n",
      "conv2d_23 (Conv2D)           (None, 50, 50, 64)        18496     \n",
      "_________________________________________________________________\n",
      "max_pooling2d_22 (MaxPooling (None, 25, 25, 64)        0         \n",
      "_________________________________________________________________\n",
      "conv2d_24 (Conv2D)           (None, 25, 25, 64)        36928     \n",
      "_________________________________________________________________\n",
      "max_pooling2d_23 (MaxPooling (None, 12, 12, 64)        0         \n",
      "_________________________________________________________________\n",
      "flatten_6 (Flatten)          (None, 9216)              0         \n",
      "_________________________________________________________________\n",
      "dense_17 (Dense)             (None, 512)               4719104   \n",
      "_________________________________________________________________\n",
      "dropout (Dropout)            (None, 512)               0         \n",
      "_________________________________________________________________\n",
      "dense_18 (Dense)             (None, 128)               65664     \n",
      "_________________________________________________________________\n",
      "dropout_1 (Dropout)          (None, 128)               0         \n",
      "_________________________________________________________________\n",
      "dense_19 (Dense)             (None, 1)                 129       \n",
      "=================================================================\n",
      "Total params: 4,845,409\n",
      "Trainable params: 4,845,409\n",
      "Non-trainable params: 0\n",
      "_________________________________________________________________\n"
     ]
    }
   ],
   "source": [
    "model.summary()"
   ]
  },
  {
   "cell_type": "code",
   "execution_count": 104,
   "id": "a777ec73",
   "metadata": {},
   "outputs": [],
   "source": [
    "opt= keras.optimizers.RMSprop(learning_rate=0.0001)\n",
    "\n",
    "model.compile(optimizer=opt, loss='binary_crossentropy', metrics=['accuracy'])"
   ]
  },
  {
   "cell_type": "code",
   "execution_count": 105,
   "id": "e3dc7ada",
   "metadata": {},
   "outputs": [
    {
     "name": "stdout",
     "output_type": "stream",
     "text": [
      "Epoch 1/15\n",
      "100/100 - 36s - loss: 0.6929 - accuracy: 0.5173 - val_loss: 0.6881 - val_accuracy: 0.5967\n",
      "Epoch 2/15\n",
      "100/100 - 35s - loss: 0.6757 - accuracy: 0.5683 - val_loss: 0.7553 - val_accuracy: 0.3940\n",
      "Epoch 3/15\n",
      "100/100 - 35s - loss: 0.6610 - accuracy: 0.5937 - val_loss: 0.7004 - val_accuracy: 0.5320\n",
      "Epoch 4/15\n",
      "100/100 - 35s - loss: 0.6495 - accuracy: 0.6160 - val_loss: 0.6481 - val_accuracy: 0.6373\n",
      "Epoch 5/15\n",
      "100/100 - 35s - loss: 0.6314 - accuracy: 0.6350 - val_loss: 0.6117 - val_accuracy: 0.6753\n",
      "Epoch 6/15\n",
      "100/100 - 35s - loss: 0.6280 - accuracy: 0.6487 - val_loss: 0.6151 - val_accuracy: 0.6847\n",
      "Epoch 7/15\n",
      "100/100 - 35s - loss: 0.5995 - accuracy: 0.6664 - val_loss: 0.7094 - val_accuracy: 0.5753\n",
      "Epoch 8/15\n",
      "100/100 - 35s - loss: 0.6122 - accuracy: 0.6657 - val_loss: 0.6307 - val_accuracy: 0.6613\n",
      "Epoch 9/15\n",
      "100/100 - 35s - loss: 0.5867 - accuracy: 0.6888 - val_loss: 0.7023 - val_accuracy: 0.5900\n",
      "Epoch 10/15\n",
      "100/100 - 35s - loss: 0.5891 - accuracy: 0.6827 - val_loss: 0.6166 - val_accuracy: 0.6753\n",
      "Epoch 11/15\n",
      "100/100 - 35s - loss: 0.5936 - accuracy: 0.6778 - val_loss: 0.5717 - val_accuracy: 0.7013\n",
      "Epoch 12/15\n",
      "100/100 - 35s - loss: 0.5829 - accuracy: 0.6847 - val_loss: 0.5548 - val_accuracy: 0.7193\n",
      "Epoch 13/15\n",
      "100/100 - 35s - loss: 0.5807 - accuracy: 0.6871 - val_loss: 0.5469 - val_accuracy: 0.7280\n",
      "Epoch 14/15\n",
      "100/100 - 35s - loss: 0.5752 - accuracy: 0.6963 - val_loss: 0.6163 - val_accuracy: 0.6627\n",
      "Epoch 15/15\n",
      "100/100 - 35s - loss: 0.5765 - accuracy: 0.6868 - val_loss: 0.6055 - val_accuracy: 0.6787\n"
     ]
    }
   ],
   "source": [
    "history=model.fit(train_gen, epochs=EPOCHS,\n",
    "                 validation_data=test_gen,\n",
    "                 validation_steps=50, steps_per_epoch=100,\n",
    "                 verbose=VERB)"
   ]
  },
  {
   "cell_type": "code",
   "execution_count": 106,
   "id": "b5a0f978",
   "metadata": {},
   "outputs": [
    {
     "data": {
      "image/png": "[encoded data removed]",
      "text/plain": [
       "<Figure size 432x288 with 1 Axes>"
      ]
     },
     "metadata": {
      "needs_background": "light"
     },
     "output_type": "display_data"
    },
    {
     "data": {
      "image/png": "[encoded data removed]",
      "text/plain": [
       "<Figure size 432x288 with 1 Axes>"
      ]
     },
     "metadata": {
      "needs_background": "light"
     },
     "output_type": "display_data"
    }
   ],
   "source": [
    "# Plot the model results\n",
    "acc = history.history['accuracy']\n",
    "val_acc = history.history['val_accuracy']\n",
    "loss = history.history['loss']\n",
    "val_loss = history.history['val_loss']\n",
    "\n",
    "epochs = range(len(acc))\n",
    "\n",
    "plt.plot(epochs, acc, 'r', label='Training accuracy')\n",
    "plt.plot(epochs, val_acc, 'b', label='Validation accuracy')\n",
    "plt.title('Training and validation accuracy')\n",
    "\n",
    "plt.figure()\n",
    "\n",
    "plt.plot(epochs, loss, 'r', label='Training Loss')\n",
    "plt.plot(epochs, val_loss, 'b', label='Validation Loss')\n",
    "plt.title('Training and validation loss')\n",
    "plt.legend()\n",
    "\n",
    "plt.show()"
   ]
  },
  {
   "cell_type": "code",
   "execution_count": null,
   "id": "20e8480a",
   "metadata": {},
   "outputs": [],
   "source": []
  }
 ],
 "metadata": {
  "kernelspec": {
   "display_name": "Python 3 (ipykernel)",
   "language": "python",
   "name": "python3"
  },
  "language_info": {
   "codemirror_mode": {
    "name": "ipython",
    "version": 3
   },
   "file_extension": ".py",
   "mimetype": "text/x-python",
   "name": "python",
   "nbconvert_exporter": "python",
   "pygments_lexer": "ipython3",
   "version": "3.8.11"
  }
 },
 "nbformat": 4,
 "nbformat_minor": 5
}
